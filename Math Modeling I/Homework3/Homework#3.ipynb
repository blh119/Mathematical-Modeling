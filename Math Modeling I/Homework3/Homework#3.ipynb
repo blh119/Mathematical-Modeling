{
 "cells": [
  {
   "cell_type": "markdown",
   "metadata": {
    "collapsed": false
   },
   "source": [
    "Brian Holliday<br/>\n",
    "Professor Masuda<br/>\n",
    "Mathematical Modeling<br/>\n",
    "21 October 2019<br/><br/><br/>\n",
    "\n",
    "Homework #3\n",
    "\n",
    "Absract: \n",
    "\n",
    "For this problem we will be trying to find the optimal population for two species of whales. We will be trying to find the optimal population size that maximizes the population of each species while ensuring survival.<br/>\n",
    "\n",
    "We will be using the five step model and we will model this as a constrained optimization problem.<br/>\n",
    "\n",
    "After that we will be doing of sensitivity analysis of the rates to the growth rate. As well as a sensitivity analysis of the maximum sustainable populations to the growth rate"
   ]
  },
  {
   "cell_type": "markdown",
   "metadata": {
    "collapsed": false
   },
   "source": [
    "Part a"
   ]
  },
  {
   "cell_type": "markdown",
   "metadata": {
    "collapsed": false
   },
   "source": [
    "x = var('x')\n",
    "y = var('y')\n",
    "L = var('L')\n",
    "L1 = var('L1')\n",
    "L2 = var('L2')\n",
    "r1 = 0.05\n",
    "r2 = 0.08\n",
    "K1 = 150000\n",
    "K2 = 400000\n",
    "a1 = 10**-8\n",
    "a2 = a1\n",
    "B(x,y) = (r1*x)*(1 - (x/K1)) - a1*(x*y)\n",
    "F(x,y) = (r2*y)*(1 - (y/K2)) - a2*(x*y)\n",
    "T(x,y) = x + y"
   ]
  },
  {
   "cell_type": "markdown",
   "metadata": {
    "collapsed": false
   },
   "source": [
    "Case 1:<br/>\n",
    "1 = L*(dg/dx), 1 = L*(dg/dy)<br/>\n",
    "g = 0"
   ]
  },
  {
   "cell_type": "code",
   "execution_count": 13,
   "metadata": {
    "collapsed": false
   },
   "outputs": [
    {
     "data": {
      "text/plain": [
       "[]"
      ]
     },
     "execution_count": 13,
     "metadata": {
     },
     "output_type": "execute_result"
    }
   ],
   "source": [
    "g = x\n",
    "solve([diff(g,x)*L == 1,diff(g,y)*L ==1, g == 0],x,y, L)"
   ]
  },
  {
   "cell_type": "code",
   "execution_count": 14,
   "metadata": {
    "collapsed": false
   },
   "outputs": [
    {
     "data": {
      "text/plain": [
       "[]"
      ]
     },
     "execution_count": 14,
     "metadata": {
     },
     "output_type": "execute_result"
    }
   ],
   "source": [
    "g = y\n",
    "solve([diff(g,x)*L == 1,diff(g,y)*L ==1, g == 0],x,y, L)"
   ]
  },
  {
   "cell_type": "code",
   "execution_count": 15,
   "metadata": {
    "collapsed": false
   },
   "outputs": [
    {
     "data": {
      "text/plain": [
       "[]"
      ]
     },
     "execution_count": 15,
     "metadata": {
     },
     "output_type": "execute_result"
    }
   ],
   "source": [
    "g = F\n",
    "solve([diff(g,x)*L == 1,diff(g,y)*L ==1, g == 0],x,y, L)"
   ]
  },
  {
   "cell_type": "code",
   "execution_count": 16,
   "metadata": {
    "collapsed": false
   },
   "outputs": [
    {
     "data": {
      "text/plain": [
       "[]"
      ]
     },
     "execution_count": 16,
     "metadata": {
     },
     "output_type": "execute_result"
    }
   ],
   "source": [
    "g = B\n",
    "solve([diff(g,x)*L == 1,diff(g,y)*L ==1, g == 0],x,y, L)"
   ]
  },
  {
   "cell_type": "markdown",
   "metadata": {
    "collapsed": false
   },
   "source": [
    "Case 2:<br/>\n",
    "1 = (L1*(dg1/dx)) + (L1*(dg2/dy))<br/>\n",
    "1 = (L2*(dg1/dx)) + (L2*(dg2/dy))<br/>\n",
    "g = 0"
   ]
  },
  {
   "cell_type": "code",
   "execution_count": 49,
   "metadata": {
    "collapsed": false
   },
   "outputs": [
    {
     "data": {
      "text/plain": [
       "[]"
      ]
     },
     "execution_count": 49,
     "metadata": {
     },
     "output_type": "execute_result"
    }
   ],
   "source": [
    "g1 = x\n",
    "g2 = y\n",
    "solve([diff(g1,x)*L1 == 1 + diff(g2,y)*L1 ==1, diff(g1,x)*L2 == 1 + diff(g2,y)*L2 == 1, g1 == 0, g2 == 0],x,y, L1, L2)"
   ]
  },
  {
   "cell_type": "code",
   "execution_count": 50,
   "metadata": {
    "collapsed": false
   },
   "outputs": [
    {
     "data": {
      "text/plain": [
       "[[x == 0, y == 0, L1 == (25/23), L2 == (25/23)], [x == 0, y == 400000, L1 == (25/27), L2 == (25/27)]]"
      ]
     },
     "execution_count": 50,
     "metadata": {
     },
     "output_type": "execute_result"
    }
   ],
   "source": [
    "g1 = x\n",
    "g2 = F\n",
    "solve([diff(g1,x)*L1 == 1 + diff(g2,y)*L1 ==1, diff(g1,x)*L2 == 1 + diff(g2,y)*L2 == 1, g1 == 0, g2 == 0],x,y, L1, L2)"
   ]
  },
  {
   "cell_type": "code",
   "execution_count": 51,
   "metadata": {
    "collapsed": false
   },
   "outputs": [
    {
     "data": {
      "text/plain": [
       "[[x == 0, y == r4, L1 == 1, L2 == 1]]"
      ]
     },
     "execution_count": 51,
     "metadata": {
     },
     "output_type": "execute_result"
    }
   ],
   "source": [
    "g1 = x\n",
    "g2 = B\n",
    "solve([diff(g1,x)*L1 == 1 + diff(g2,y)*L1 ==1, diff(g1,x)*L2 == 1 + diff(g2,y)*L2 == 1, g1 == 0, g2 == 0],x,y, L1, L2)"
   ]
  },
  {
   "cell_type": "code",
   "execution_count": 53,
   "metadata": {
    "collapsed": false
   },
   "outputs": [
    {
     "data": {
      "text/plain": [
       "[[x == 150000, y == 0, L1 == (2000/3), L2 == (2000/3)]]"
      ]
     },
     "execution_count": 53,
     "metadata": {
     },
     "output_type": "execute_result"
    }
   ],
   "source": [
    "g1 = y\n",
    "g2 = B\n",
    "solve([diff(g1,x)*L1 == 1 + diff(g2,y)*L1 ==1, diff(g1,x)*L2 == 1 + diff(g2,y)*L2 == 1, g1 == 0, g2 == 0],x,y, L1, L2)"
   ]
  },
  {
   "cell_type": "code",
   "execution_count": 54,
   "metadata": {
    "collapsed": false
   },
   "outputs": [
    {
     "data": {
      "text/plain": [
       "[[x == 4000000*(2*r5 + 25)/r5, y == 0, L1 == r5, L2 == r5]]"
      ]
     },
     "execution_count": 54,
     "metadata": {
     },
     "output_type": "execute_result"
    }
   ],
   "source": [
    "g1 = y\n",
    "g2 = F\n",
    "solve([diff(g1,x)*L1 == 1 + diff(g2,y)*L1 ==1, diff(g1,x)*L2 == 1 + diff(g2,y)*L2 == 1, g1 == 0, g2 == 0],x,y, L1, L2)"
   ]
  },
  {
   "cell_type": "code",
   "execution_count": 55,
   "metadata": {
    "collapsed": false
   },
   "outputs": [
    {
     "data": {
      "text/plain": [
       "[[x == 0, y == 400000, L1 == -250, L2 == -250], [x == 150000, y == 0, L1 == (2000/3), L2 == (2000/3)], [x == (276000000/1997), y == (785000000/1997), L1 == (-199700/509), L2 == (-199700/509)]]"
      ]
     },
     "execution_count": 55,
     "metadata": {
     },
     "output_type": "execute_result"
    }
   ],
   "source": [
    "g1 = F\n",
    "g2 = B\n",
    "solve([diff(g1,x)*L1 == 1 + diff(g2,y)*L1 ==1, diff(g1,x)*L2 == 1 + diff(g2,y)*L2 == 1, g1 == 0, g2 == 0],x,y, L1, L2)"
   ]
  },
  {
   "cell_type": "code",
   "execution_count": 56,
   "metadata": {
    "collapsed": false
   },
   "outputs": [
    {
     "data": {
      "text/plain": [
       "138207.310966450"
      ]
     },
     "execution_count": 56,
     "metadata": {
     },
     "output_type": "execute_result"
    }
   ],
   "source": [
    "x = n(276000000/1997)\n",
    "x"
   ]
  },
  {
   "cell_type": "code",
   "execution_count": 57,
   "metadata": {
    "collapsed": false
   },
   "outputs": [
    {
     "data": {
      "text/plain": [
       "393089.634451677"
      ]
     },
     "execution_count": 57,
     "metadata": {
     },
     "output_type": "execute_result"
    }
   ],
   "source": [
    "y = n(785000000/1997)\n",
    "y"
   ]
  },
  {
   "cell_type": "code",
   "execution_count": 42,
   "metadata": {
    "collapsed": false
   },
   "outputs": [
    {
     "data": {
      "text/plain": [
       "531296.945418127"
      ]
     },
     "execution_count": 42,
     "metadata": {
     },
     "output_type": "execute_result"
    }
   ],
   "source": [
    "x + y\n",
    "#Optimal Population of Blue and Fin Whales"
   ]
  },
  {
   "cell_type": "markdown",
   "metadata": {
    "collapsed": false
   },
   "source": [
    "Part B"
   ]
  },
  {
   "cell_type": "code",
   "execution_count": 59,
   "metadata": {
    "collapsed": false
   },
   "outputs": [
   ],
   "source": [
    "x = var('x')\n",
    "y = var('y')\n",
    "L = var('L')\n",
    "L1 = var('L1')\n",
    "L2 = var('L2')\n",
    "r1 = var('r1')\n",
    "r2 = 0.08\n",
    "K1 = 150000\n",
    "K2 = 400000\n",
    "a1 = 10**-8\n",
    "a2 = a1\n",
    "B(x,y) = (r1*x)*(1 - (x/K1)) - a1*(x*y)\n",
    "F(x,y) = (r2*y)*(1 - (y/K2)) - a2*(x*y)\n",
    "T(x,y) = x + y"
   ]
  },
  {
   "cell_type": "code",
   "execution_count": 60,
   "metadata": {
    "collapsed": false
   },
   "outputs": [
    {
     "data": {
      "text/plain": [
       "[[x == 0, y == 400000, L1 == -250, L2 == -250], [x == 150000, y == 0, L1 == (2000/3), L2 == (2000/3)], [x == 24000000*(250*r1 - 1)/(40000*r1 - 3), y == 15700000000*r1/(40000*r1 - 3), L1 == -25*(40000*r1 - 3)/(2425*r1 + 6), L2 == -25*(40000*r1 - 3)/(2425*r1 + 6)]]"
      ]
     },
     "execution_count": 60,
     "metadata": {
     },
     "output_type": "execute_result"
    }
   ],
   "source": [
    "g1 = F\n",
    "g2 = B\n",
    "solve([diff(g1,x)*L1 == 1 + diff(g2,y)*L1 ==1, diff(g1,x)*L2 == 1 + diff(g2,y)*L2 == 1, g1 == 0, g2 == 0],x,y, L1, L2)"
   ]
  },
  {
   "cell_type": "code",
   "execution_count": 82,
   "metadata": {
    "collapsed": false
   },
   "outputs": [
    {
     "data": {
      "text/plain": [
       "0.0854542683590600"
      ]
     },
     "execution_count": 82,
     "metadata": {
     },
     "output_type": "execute_result"
    }
   ],
   "source": [
    "dxdr1(x,r1) = diff((24000000*(250*r1 - 1)/(40000*r1 - 3)),r1)\n",
    "Sx(x,r1) = dxdr1(x,r1) * (r1/x)\n",
    "Sx(138207.310966450, .05)\n",
    "#Sensitivity of x to r1"
   ]
  },
  {
   "cell_type": "code",
   "execution_count": 88,
   "metadata": {
    "collapsed": false
   },
   "outputs": [
    {
     "data": {
      "text/plain": [
       "-0.00150225198307145"
      ]
     },
     "execution_count": 88,
     "metadata": {
     },
     "output_type": "execute_result"
    }
   ],
   "source": [
    "dydr1(r1) = diff((15700000000*r1/(40000*r1 - 3)),r1)\n",
    "Sy(y,r1) = dydr1(r1) * (r1/y)\n",
    "Sy(393090,.05)\n",
    "#Sensitivity of y to r1"
   ]
  },
  {
   "cell_type": "code",
   "execution_count": 89,
   "metadata": {
    "collapsed": false
   },
   "outputs": [
   ],
   "source": [
    "x = var('x')\n",
    "y = var('y')\n",
    "L = var('L')\n",
    "L1 = var('L1')\n",
    "L2 = var('L2')\n",
    "r1 = 0.05\n",
    "r2 = var('r2')\n",
    "K1 = 150000\n",
    "K2 = 400000\n",
    "a1 = 10**-8\n",
    "a2 = a1\n",
    "B(x,y) = (r1*x)*(1 - (x/K1)) - a1*(x*y)\n",
    "F(x,y) = (r2*y)*(1 - (y/K2)) - a2*(x*y)\n",
    "T(x,y) = x + y"
   ]
  },
  {
   "cell_type": "code",
   "execution_count": 90,
   "metadata": {
    "collapsed": false
   },
   "outputs": [
    {
     "data": {
      "text/plain": [
       "[[x == 0, y == 400000, L1 == -250, L2 == -250], [x == 150000, y == 0, L1 == (2000/3), L2 == (2000/3)], [x == 3450000000*r2/(25000*r2 - 3), y == 5000000*(2000*r2 - 3)/(25000*r2 - 3), L1 == -20*(25000*r2 - 3)/(1310*r2 - 3), L2 == -20*(25000*r2 - 3)/(1310*r2 - 3)]]"
      ]
     },
     "execution_count": 90,
     "metadata": {
     },
     "output_type": "execute_result"
    }
   ],
   "source": [
    "g1 = F\n",
    "g2 = B\n",
    "solve([diff(g1,x)*L1 == 1 + diff(g2,y)*L1 ==1, diff(g1,x)*L2 == 1 + diff(g2,y)*L2 == 1, g1 == 0, g2 == 0],x,y, L1, L2)"
   ]
  },
  {
   "cell_type": "code",
   "execution_count": 93,
   "metadata": {
    "collapsed": false
   },
   "outputs": [
    {
     "data": {
      "text/plain": [
       "-0.00150224589061233"
      ]
     },
     "execution_count": 93,
     "metadata": {
     },
     "output_type": "execute_result"
    }
   ],
   "source": [
    "dxdr2(r2) = diff((3450000000*r2/(25000*r2 - 3)),r2)\n",
    "Sx(x,r2) = dxdr2(r2) * (r2/x)\n",
    "Sx(138208, .08)\n",
    "#Sensitivity of x to r2"
   ]
  },
  {
   "cell_type": "code",
   "execution_count": 97,
   "metadata": {
    "collapsed": false
   },
   "outputs": [
    {
     "data": {
      "text/plain": [
       "0.0176060105022385"
      ]
     },
     "execution_count": 97,
     "metadata": {
     },
     "output_type": "execute_result"
    }
   ],
   "source": [
    "dydr2(r2) = diff((5000000*(2000*r2 - 3)/(25000*r2 - 3)),r2)\n",
    "Sy(y,r2) = dydr2(r2) * (r2/y)\n",
    "Sy(393090,.08)\n",
    "#Sensitivity of y to r2"
   ]
  },
  {
   "cell_type": "markdown",
   "metadata": {
    "collapsed": false
   },
   "source": [
    "Part 3"
   ]
  },
  {
   "cell_type": "code",
   "execution_count": 99,
   "metadata": {
    "collapsed": false
   },
   "outputs": [
   ],
   "source": [
    "x = var('x')\n",
    "y = var('y')\n",
    "L = var('L')\n",
    "L1 = var('L1')\n",
    "L2 = var('L2')\n",
    "r1 = 0.05\n",
    "r2 = 0.08\n",
    "K1 = var('K1')\n",
    "K2 = 400000\n",
    "a1 = 10**-8\n",
    "a2 = a1\n",
    "B(x,y) = (r1*x)*(1 - (x/K1)) - a1*(x*y)\n",
    "F(x,y) = (r2*y)*(1 - (y/K2)) - a2*(x*y)\n",
    "T(x,y) = x + y"
   ]
  },
  {
   "cell_type": "code",
   "execution_count": 100,
   "metadata": {
    "collapsed": false
   },
   "outputs": [
    {
     "data": {
      "text/plain": [
       "[[x == 0, y == 400000, L1 == -250, L2 == -250], [x == K1, y == 0, L1 == 100000000/K1, L2 == 100000000/K1], [x == -92000000*K1/(K1 - 100000000), y == 5000000*(K1 - 8000000)/(K1 - 100000000), L1 == -100*(K1 - 100000000)/(97*K1 - 40000000), L2 == -100*(K1 - 100000000)/(97*K1 - 40000000)]]"
      ]
     },
     "execution_count": 100,
     "metadata": {
     },
     "output_type": "execute_result"
    }
   ],
   "source": [
    "g1 = F\n",
    "g2 = B\n",
    "solve([diff(g1,x)*L1 == 1 + diff(g2,y)*L1 ==1, diff(g1,x)*L2 == 1 + diff(g2,y)*L2 == 1, g1 == 0, g2 == 0],x,y, L1, L2)"
   ]
  },
  {
   "cell_type": "code",
   "execution_count": 112,
   "metadata": {
    "collapsed": false
   },
   "outputs": [
    {
     "data": {
      "text/plain": [
       "1.00149726040822"
      ]
     },
     "execution_count": 112,
     "metadata": {
     },
     "output_type": "execute_result"
    }
   ],
   "source": [
    "dxdK1(K1) = diff((-92000000*K1/(K1 - 100000000)),K1)\n",
    "Sx(x,K1) = dxdK1(K1) * (K1/x)\n",
    "n(Sx(138208,150000))\n",
    "#Sensitivity of x to K1"
   ]
  },
  {
   "cell_type": "code",
   "execution_count": 110,
   "metadata": {
    "collapsed": false
   },
   "outputs": [
    {
     "data": {
      "text/plain": [
       "-0.0176060105022386"
      ]
     },
     "execution_count": 110,
     "metadata": {
     },
     "output_type": "execute_result"
    }
   ],
   "source": [
    "dydK1(K1) = diff((5000000*(K1 - 8000000)/(K1 - 100000000)),K1)\n",
    "Sy(y,K1) = dydK1(K1)*(K1/y)\n",
    "n(Sy(393090,150000))\n",
    "#Sensitivity of y to K1"
   ]
  },
  {
   "cell_type": "code",
   "execution_count": 113,
   "metadata": {
    "collapsed": false
   },
   "outputs": [
   ],
   "source": [
    "x = var('x')\n",
    "y = var('y')\n",
    "L = var('L')\n",
    "L1 = var('L1')\n",
    "L2 = var('L2')\n",
    "r1 = 0.05\n",
    "r2 = 0.08\n",
    "K1 = 150000\n",
    "K2 = var('K2')\n",
    "a1 = 10**-8\n",
    "a2 = a1\n",
    "B(x,y) = (r1*x)*(1 - (x/K1)) - a1*(x*y)\n",
    "F(x,y) = (r2*y)*(1 - (y/K2)) - a2*(x*y)\n",
    "T(x,y) = x + y"
   ]
  },
  {
   "cell_type": "code",
   "execution_count": 114,
   "metadata": {
    "collapsed": false
   },
   "outputs": [
    {
     "data": {
      "text/plain": [
       "[[x == 0, y == K2, L1 == -100000000/K2, L2 == -100000000/K2], [x == 150000, y == 0, L1 == (2000/3), L2 == (2000/3)], [x == 24000000*(K2 - 5000000)/(3*K2 - 800000000), y == -785000000*K2/(3*K2 - 800000000), L1 == 100*(3*K2 - 800000000)/(809*K2 - 120000000), L2 == 100*(3*K2 - 800000000)/(809*K2 - 120000000)]]"
      ]
     },
     "execution_count": 114,
     "metadata": {
     },
     "output_type": "execute_result"
    }
   ],
   "source": [
    "g1 = F\n",
    "g2 = B\n",
    "solve([diff(g1,x)*L1 == 1 + diff(g2,y)*L1 ==1, diff(g1,x)*L2 == 1 + diff(g2,y)*L2 == 1, g1 == 0, g2 == 0],x,y, L1, L2)"
   ]
  },
  {
   "cell_type": "code",
   "execution_count": 118,
   "metadata": {
    "collapsed": false
   },
   "outputs": [
    {
     "data": {
      "text/plain": [
       "-0.0854538423283102"
      ]
     },
     "execution_count": 118,
     "metadata": {
     },
     "output_type": "execute_result"
    }
   ],
   "source": [
    "dxdK2(K2) = diff((24000000*(K2 - 5000000)/(3*K2 - 800000000)),K2)\n",
    "Sx(x,K2) = dxdK2(K2) * (K2/x)\n",
    "n(Sx(138208,400000))\n",
    "#Sensitivity of x to K2"
   ]
  },
  {
   "cell_type": "code",
   "execution_count": 123,
   "metadata": {
    "collapsed": false
   },
   "outputs": [
    {
     "data": {
      "text/plain": [
       "1.00150132204763"
      ]
     },
     "execution_count": 123,
     "metadata": {
     },
     "output_type": "execute_result"
    }
   ],
   "source": [
    "dydK2(K2) = diff((-785000000*K2/(3*K2 - 800000000)),K2)\n",
    "Sy(y,K2) = dydK2(K2) *(K2/y)\n",
    "n(Sy(393090,400000))\n",
    "#Sensitivity of y to K2"
   ]
  },
  {
   "cell_type": "markdown",
   "metadata": {
    "collapsed": false
   },
   "source": [
    "Part 4"
   ]
  },
  {
   "cell_type": "code",
   "execution_count": 131,
   "metadata": {
    "collapsed": false
   },
   "outputs": [
   ],
   "source": [
    "x = var('x')\n",
    "y = var('y')\n",
    "L = var('L')\n",
    "L1 = var('L1')\n",
    "L2 = var('L2')\n",
    "r1 = 0.05\n",
    "r2 = 0.08\n",
    "K1 = 150000\n",
    "K2 = 400000\n",
    "a = var('a')\n",
    "B(x,y) = (r1*x)*(1 - (x/K1)) - a*(x*y)\n",
    "F(x,y) = (r2*y)*(1 - (y/K2)) - a*(x*y)\n",
    "T(x,y) = x + y\n",
    "#value for a in both equations is the same"
   ]
  },
  {
   "cell_type": "code",
   "execution_count": 132,
   "metadata": {
    "collapsed": false
   },
   "outputs": [
    {
     "data": {
      "text/plain": [
       "[[x == 0, y == 400000, L1 == -1/400000/a, L2 == -1/400000/a], [x == 150000, y == 0, L1 == 1/150000/a, L2 == 1/150000/a], [x == 150000*(8000000*a - 1)/(15000000000000*a^2 - 1), y == 400000*(1875000*a - 1)/(15000000000000*a^2 - 1), L1 == 1/250000*(15000000000000*a^2 - 1)/(1800000*a^2 + a), L2 == 1/250000*(15000000000000*a^2 - 1)/(1800000*a^2 + a)]]"
      ]
     },
     "execution_count": 132,
     "metadata": {
     },
     "output_type": "execute_result"
    }
   ],
   "source": [
    "g1 = F\n",
    "g2 = B\n",
    "solve([diff(g1,x)*L1 == 1 + diff(g2,y)*L1 ==1, diff(g1,x)*L2 == 1 + diff(g2,y)*L2 == 1, g1 == 0, g2 == 0],x,y, L1, L2)"
   ]
  },
  {
   "cell_type": "code",
   "execution_count": 134,
   "metadata": {
    "collapsed": false
   },
   "outputs": [
    {
     "data": {
      "text/plain": [
       "0.0868256540865941"
      ]
     },
     "execution_count": 134,
     "metadata": {
     },
     "output_type": "execute_result"
    }
   ],
   "source": [
    "dxda(a) = diff((150000*(8000000*a - 1)),a)\n",
    "Sx(x,a) = dxda(a) * (a/x)\n",
    "n(Sx(138208,10**(-8)))\n",
    "#Sensitity of x to a"
   ]
  },
  {
   "cell_type": "code",
   "execution_count": 137,
   "metadata": {
    "collapsed": false
   },
   "outputs": [
    {
     "data": {
      "text/plain": [
       "0.0305273601465313"
      ]
     },
     "execution_count": 137,
     "metadata": {
     },
     "output_type": "execute_result"
    }
   ],
   "source": [
    "dyda(a) = diff((400000*(1875000*a - 1)/(15000000000000*a^2 - 1)),a)\n",
    "Sy(y,a) = dyda(a) * (a/y)\n",
    "n(Sx(393090,10**(-8)))\n",
    "#Sensitity of y to a"
   ]
  }
 ],
 "metadata": {
  "kernelspec": {
   "display_name": "SageMath (stable)",
   "language": "sagemath",
   "metadata": {
    "cocalc": {
     "description": "Open-source mathematical software system",
     "priority": 10,
     "url": "https://www.sagemath.org/"
    }
   },
   "name": "sagemath"
  },
  "language_info": {
   "codemirror_mode": {
    "name": "ipython",
    "version": 2
   },
   "file_extension": ".py",
   "mimetype": "text/x-python",
   "name": "python",
   "nbconvert_exporter": "python",
   "pygments_lexer": "ipython2",
   "version": "2.7.15"
  }
 },
 "nbformat": 4,
 "nbformat_minor": 0
}