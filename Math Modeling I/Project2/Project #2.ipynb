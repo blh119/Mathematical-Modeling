{
 "cells": [
  {
   "cell_type": "markdown",
   "metadata": {
    "collapsed": false
   },
   "source": [
    "Brian Holliday<br/>\n",
    "Professor Mesuda<br/>\n",
    "Mathematical Modeling I<br/>\n",
    "13 November 2019"
   ]
  },
  {
   "cell_type": "markdown",
   "metadata": {
    "collapsed": false
   },
   "source": [
    "### Problem 7"
   ]
  },
  {
   "cell_type": "markdown",
   "metadata": {
    "collapsed": false
   },
   "source": [
    "A  local  daily  newspaper  has  recently  been  acquired  by  a  large  media  conglomerate.   The  paper\n",
    "currently  sells  for  1.50/week  and  has  a  circulation  of  80000  subscribers.   Advertising  sells  for\n",
    "$250/page, and the paper currently sells 350 pages/week (50 pages/day).  The new management\n",
    "is looking for ways to increase profits.  It is estimated that an increase of ten cents/week in the\n",
    "subscription  price  will  cause  a  drop  in  circulation  of  5,000  subscribers.   Increasing  the  price  of\n",
    "advertising by 100/page will cause the paper to lose approximately 50 pages of advertising per\n",
    "week.  The loss of advertising will also a ect circulation, since one of the reasons people buy the\n",
    "paper is for the advertisements.  If is estimated that a loss of 50 pages of advertisements per week\n",
    "will reduce circulation by 1,000 subscriptions."
   ]
  },
  {
   "cell_type": "markdown",
   "metadata": {
    "collapsed": false
   },
   "source": [
    "Variables:<br/>\n",
    "    c = cost of paper(per week)<br/>\n",
    "    s = subscribers<br/>\n",
    "    a = advertising<br/>\n",
    "    g = advertising pages<br/>\n",
    "    x = number of 0.10 raises in subscription price<br/>\n",
    "    y = number of 100 dollar raises in advertising price<br/>\n",
    "    p = profit"
   ]
  },
  {
   "cell_type": "markdown",
   "metadata": {
    "collapsed": false
   },
   "source": [
    "##### Part A"
   ]
  },
  {
   "cell_type": "code",
   "execution_count": 47,
   "metadata": {
    "collapsed": false
   },
   "outputs": [
   ],
   "source": [
    "c(x) = 1.50 + .10*x\n",
    "s(x,y) = 80000 - 5000*x - 1000*y\n",
    "g(y) = 350 - 50*y\n",
    "a(y) = 250 + 100*y\n",
    "p(x,y) = c(x)*s(x,y) + a(y)*g(y)"
   ]
  },
  {
   "cell_type": "code",
   "execution_count": 48,
   "metadata": {
    "collapsed": false
   },
   "outputs": [
    {
     "data": {
      "text/plain": [
       "[[x == (290/999), y == (2095/999)]]"
      ]
     },
     "execution_count": 48,
     "metadata": {
     },
     "output_type": "execute_result"
    }
   ],
   "source": [
    "solve([diff(p(x,y),x)==0, diff(p(x,y),y)==0],x,y)"
   ]
  },
  {
   "cell_type": "code",
   "execution_count": 49,
   "metadata": {
    "collapsed": false
   },
   "outputs": [
    {
     "data": {
      "text/plain": [
       "1.52902902902903"
      ]
     },
     "execution_count": 49,
     "metadata": {
     },
     "output_type": "execute_result"
    }
   ],
   "source": [
    "c(290/999)\n",
    "#1.53 weekly subscription rate"
   ]
  },
  {
   "cell_type": "code",
   "execution_count": 50,
   "metadata": {
    "collapsed": false
   },
   "outputs": [
    {
     "data": {
      "text/plain": [
       "76451.4514514514"
      ]
     },
     "execution_count": 50,
     "metadata": {
     },
     "output_type": "execute_result"
    }
   ],
   "source": [
    "n(s((290/999),(2095/999)))\n",
    "#76452 number of subscribers"
   ]
  },
  {
   "cell_type": "code",
   "execution_count": 51,
   "metadata": {
    "collapsed": false
   },
   "outputs": [
    {
     "data": {
      "text/plain": [
       "229592.092092092"
      ]
     },
     "execution_count": 51,
     "metadata": {
     },
     "output_type": "execute_result"
    }
   ],
   "source": [
    "p((290/999),(2095/999))\n",
    "#Maximized Profit $229592.10"
   ]
  },
  {
   "cell_type": "markdown",
   "metadata": {
    "collapsed": false
   },
   "source": [
    "##### Part B"
   ]
  },
  {
   "cell_type": "code",
   "execution_count": 52,
   "metadata": {
    "collapsed": false
   },
   "outputs": [
   ],
   "source": [
    "u = var('u')\n",
    "c(x) = 1.50 + .10*x\n",
    "s(x,y,u) = 80000 - u*x - 1000*y\n",
    "g(y) = 350 - 50*y\n",
    "a(y) = 250 + 100*y\n",
    "p(x,y,u) = c(x)*s(x,y,u) + a(y)*g(y)"
   ]
  },
  {
   "cell_type": "code",
   "execution_count": 53,
   "metadata": {
    "collapsed": false
   },
   "outputs": [
    {
     "data": {
      "text/plain": [
       "[[x == -5/2*(3*u - 15580)/(u - 5), y == 1/40*(87*u - 16000)/(u - 5)]]"
      ]
     },
     "execution_count": 53,
     "metadata": {
     },
     "output_type": "execute_result"
    }
   ],
   "source": [
    "solve([diff(p(x,y,u),x)==0,diff(p(x,y,u),y)==0],x,y)"
   ]
  },
  {
   "cell_type": "code",
   "execution_count": 54,
   "metadata": {
    "collapsed": false
   },
   "outputs": [
    {
     "data": {
      "text/plain": [
       "-5.09678978997971"
      ]
     },
     "execution_count": 54,
     "metadata": {
     },
     "output_type": "execute_result"
    }
   ],
   "source": [
    "dxdu(u) = diff((-5/2*(3*u - 15580)/(u - 5)),u)\n",
    "Sx(u,x) = dxdu(u)*(u/x)\n",
    "Sx(5000,1.53)\n",
    "#Sensitivity of x to the 5000 dollar drop in subscribers"
   ]
  },
  {
   "cell_type": "code",
   "execution_count": 55,
   "metadata": {
    "collapsed": false
   },
   "outputs": [
    {
     "data": {
      "text/plain": [
       "6.54133940072531e-9"
      ]
     },
     "execution_count": 55,
     "metadata": {
     },
     "output_type": "execute_result"
    }
   ],
   "source": [
    "dydu(u) = diff((1/40*(87*u - 16000)/(u - 5)),u)\n",
    "Sy(u,y) = dydu(u)*(y/u)\n",
    "n(Sy(5000,(2095/999)))\n",
    "#Sensitivity of y to the 5000 dollar drop in subscribers"
   ]
  },
  {
   "cell_type": "markdown",
   "metadata": {
    "collapsed": false
   },
   "source": [
    "##### Part C"
   ]
  },
  {
   "cell_type": "code",
   "execution_count": 56,
   "metadata": {
    "collapsed": false
   },
   "outputs": [
   ],
   "source": [
    "j = var('j')\n",
    "c(x) = 1.50 + .10*x\n",
    "s(x,y) = 80000 - 5000*x - 1000*y\n",
    "g(y,j) = 350 - j*y\n",
    "a(y) = 250 + 100*y\n",
    "p(x,y,j) = c(x)*s(x,y) + a(y)*g(y,j)"
   ]
  },
  {
   "cell_type": "code",
   "execution_count": 57,
   "metadata": {
    "collapsed": false
   },
   "outputs": [
    {
     "data": {
      "text/plain": [
       "[[x == 5/2*(5*j - 134)/(20*j - 1), y == -5*(5*j - 669)/(20*j - 1)]]"
      ]
     },
     "execution_count": 57,
     "metadata": {
     },
     "output_type": "execute_result"
    }
   ],
   "source": [
    "solve([diff(p(x,y,j),x)==0, diff(p(x,y,j),y)==0],x,y)"
   ]
  },
  {
   "cell_type": "code",
   "execution_count": 58,
   "metadata": {
    "collapsed": false
   },
   "outputs": [
    {
     "data": {
      "text/plain": [
       "875.816993464052"
      ]
     },
     "execution_count": 58,
     "metadata": {
     },
     "output_type": "execute_result"
    }
   ],
   "source": [
    "dxdj = solve((5/2*(5*j - 134)/(20*j - 1)),j)\n",
    "dxdj = 134/5\n",
    "Sx(x,j) = dxdj * (j/x)\n",
    "Sx(1.53, 50)\n",
    "#Sensitivity of x to the 50 dollar drop in pages"
   ]
  },
  {
   "cell_type": "code",
   "execution_count": 59,
   "metadata": {
    "collapsed": false
   },
   "outputs": [
    {
     "data": {
      "text/plain": [
       "-1.59765971221818"
      ]
     },
     "execution_count": 59,
     "metadata": {
     },
     "output_type": "execute_result"
    }
   ],
   "source": [
    "dydj(j) = diff((-5*(5*j - 669)/(20*j - 1)),j)\n",
    "Sy(y,j) = dydj(j)*(j/y)\n",
    "n(Sy((2095/999), 50))\n",
    "#Sensitivity of y to the 50 dollar amount"
   ]
  },
  {
   "cell_type": "markdown",
   "metadata": {
    "collapsed": false
   },
   "source": [
    "##### Part D"
   ]
  },
  {
   "cell_type": "code",
   "execution_count": 60,
   "metadata": {
    "collapsed": false
   },
   "outputs": [
   ],
   "source": [
    "c(x) = 1.50 + .10*x\n",
    "s(x,y) = 80000 - 5000*x - 1000*y\n",
    "g(y) = 500 - 50*y\n",
    "a(y) = 250 + 100*y\n",
    "p(x,y) = c(x)*s(x,y) + a(y)*g(y)"
   ]
  },
  {
   "cell_type": "code",
   "execution_count": 61,
   "metadata": {
    "collapsed": false
   },
   "outputs": [
    {
     "data": {
      "text/plain": [
       "[[x == (140/999), y == (3595/999)]]"
      ]
     },
     "execution_count": 61,
     "metadata": {
     },
     "output_type": "execute_result"
    }
   ],
   "source": [
    "solve([diff(p(x,y),x) == 0, diff(p(x,y),y) == 0],x,y)"
   ]
  },
  {
   "cell_type": "code",
   "execution_count": 62,
   "metadata": {
    "collapsed": false
   },
   "outputs": [
    {
     "data": {
      "text/plain": [
       "1.51401401401401"
      ]
     },
     "execution_count": 62,
     "metadata": {
     },
     "output_type": "execute_result"
    }
   ],
   "source": [
    "c(140/999)\n",
    "#Subscrition price = 1.51 with 500 advertising per page"
   ]
  },
  {
   "cell_type": "code",
   "execution_count": 63,
   "metadata": {
    "collapsed": false
   },
   "outputs": [
    {
     "data": {
      "text/plain": [
       "75700.7007007007"
      ]
     },
     "execution_count": 63,
     "metadata": {
     },
     "output_type": "execute_result"
    }
   ],
   "source": [
    "n(s((140/999),(3595/999)))\n",
    "#number of subscribers = 75701"
   ]
  },
  {
   "cell_type": "code",
   "execution_count": 64,
   "metadata": {
    "collapsed": false
   },
   "outputs": [
    {
     "data": {
      "text/plain": [
       "0.140140140140140"
      ]
     },
     "execution_count": 64,
     "metadata": {
     },
     "output_type": "execute_result"
    }
   ],
   "source": [
    "n(140/999)"
   ]
  },
  {
   "cell_type": "code",
   "execution_count": 65,
   "metadata": {
    "collapsed": false
   },
   "outputs": [
    {
     "data": {
      "text/plain": [
       "3.59859859859860"
      ]
     },
     "execution_count": 65,
     "metadata": {
     },
     "output_type": "execute_result"
    }
   ],
   "source": [
    "n(3595/999)"
   ]
  },
  {
   "cell_type": "code",
   "execution_count": 66,
   "metadata": {
    "collapsed": false
   },
   "outputs": [
    {
     "data": {
      "text/plain": [
       "309809.809809810"
      ]
     },
     "execution_count": 66,
     "metadata": {
     },
     "output_type": "execute_result"
    }
   ],
   "source": [
    "p(0.140140140140140,3.59859859859860)\n",
    "#profit with with 500 advertising per page = 309809.81"
   ]
  },
  {
   "cell_type": "markdown",
   "metadata": {
    "collapsed": false
   },
   "source": [
    "### Problem 8"
   ]
  },
  {
   "cell_type": "markdown",
   "metadata": {
    "collapsed": false
   },
   "source": [
    "Reconsider the newspaper problem of Exercise 7, but now suppose that advertisers has the option<br/>\n",
    "of using direct mail to reach their customers. Because of this,<br/>\n",
    "management has decided not to increse the price of advertising beyond 400"
   ]
  },
  {
   "cell_type": "code",
   "execution_count": 67,
   "metadata": {
    "collapsed": false
   },
   "outputs": [
   ],
   "source": [
    "x = var('x')\n",
    "y = var('y')\n",
    "L = var('L')\n",
    "c(x) = 1.50 + .10*x\n",
    "s(x,y) = 80000 - 5000*x - 1000*y\n",
    "g(y) = 350 - 50*y\n",
    "a(y) = 250 + 100*y\n",
    "p(x,y) = c(x)*s(x,y) + a(y)*g(y)"
   ]
  },
  {
   "cell_type": "markdown",
   "metadata": {
    "collapsed": false
   },
   "source": [
    "##### Part A"
   ]
  },
  {
   "cell_type": "code",
   "execution_count": 68,
   "metadata": {
    "collapsed": false
   },
   "outputs": [
    {
     "data": {
      "text/plain": [
       "[[y == (3/2), L == 1]]"
      ]
     },
     "execution_count": 68,
     "metadata": {
     },
     "output_type": "execute_result"
    }
   ],
   "source": [
    "g = a(y)\n",
    "solve([diff(g,y)*L ==100, g == 400],y,L)"
   ]
  },
  {
   "cell_type": "code",
   "execution_count": 69,
   "metadata": {
    "collapsed": false
   },
   "outputs": [
    {
     "data": {
      "text/plain": [
       "400.000000000000"
      ]
     },
     "execution_count": 69,
     "metadata": {
     },
     "output_type": "execute_result"
    }
   ],
   "source": [
    "a(1.5)\n",
    "#with this constraint the highest value of y is 1.5. Meaning that advertising per page is 400."
   ]
  },
  {
   "cell_type": "code",
   "execution_count": 70,
   "metadata": {
    "collapsed": false
   },
   "outputs": [
    {
     "data": {
      "text/plain": [
       "[[x == (290/999), y == (2095/999)]]"
      ]
     },
     "execution_count": 70,
     "metadata": {
     },
     "output_type": "execute_result"
    }
   ],
   "source": [
    "solve([diff(p(x,y),x)==0, diff(p(x,y),y)==0],x,y)\n",
    "#We know that y is 1.5"
   ]
  },
  {
   "cell_type": "code",
   "execution_count": 71,
   "metadata": {
    "collapsed": false
   },
   "outputs": [
    {
     "data": {
      "text/plain": [
       "0.290290290290290"
      ]
     },
     "execution_count": 71,
     "metadata": {
     },
     "output_type": "execute_result"
    }
   ],
   "source": [
    "n(290/999)"
   ]
  },
  {
   "cell_type": "code",
   "execution_count": 72,
   "metadata": {
    "collapsed": false
   },
   "outputs": [
    {
     "data": {
      "text/plain": [
       "1.52902902902903"
      ]
     },
     "execution_count": 72,
     "metadata": {
     },
     "output_type": "execute_result"
    }
   ],
   "source": [
    "c(290/999)\n",
    "#Weekly Subscription price = 1.53"
   ]
  },
  {
   "cell_type": "code",
   "execution_count": 73,
   "metadata": {
    "collapsed": false
   },
   "outputs": [
    {
     "data": {
      "text/plain": [
       "227809.467375283"
      ]
     },
     "execution_count": 73,
     "metadata": {
     },
     "output_type": "execute_result"
    }
   ],
   "source": [
    "p(0.290290290290290,1.5)\n",
    "#With this constraint the profit is = 227809.47"
   ]
  },
  {
   "cell_type": "markdown",
   "metadata": {
    "collapsed": false
   },
   "source": [
    "##### Part B"
   ]
  },
  {
   "cell_type": "code",
   "execution_count": 74,
   "metadata": {
    "collapsed": false
   },
   "outputs": [
   ],
   "source": [
    "u = var('u')\n",
    "c(x) = 1.50 + .10*x\n",
    "s(x,y,u) = 80000 - u*x - 1000*y\n",
    "g(y) = 350 - 50*y\n",
    "a(y) = 250 + 100*y\n",
    "p(x,y,u) = c(x)*s(x,y,u) + a(y)*g(y)"
   ]
  },
  {
   "cell_type": "code",
   "execution_count": 75,
   "metadata": {
    "collapsed": false
   },
   "outputs": [
    {
     "data": {
      "text/plain": [
       "[[x == -5/2*(3*u - 15580)/(u - 5), y == 1/40*(87*u - 16000)/(u - 5)]]"
      ]
     },
     "execution_count": 75,
     "metadata": {
     },
     "output_type": "execute_result"
    }
   ],
   "source": [
    "solve([diff(p(x,y,u),x)==0,diff(p(x,y,u),y)==0],x,y)"
   ]
  },
  {
   "cell_type": "code",
   "execution_count": 76,
   "metadata": {
    "collapsed": false
   },
   "outputs": [
    {
     "data": {
      "text/plain": [
       "-5.09678978997971"
      ]
     },
     "execution_count": 76,
     "metadata": {
     },
     "output_type": "execute_result"
    }
   ],
   "source": [
    "dxdu(u) = diff((-5/2*(3*u - 15580)/(u - 5)),u)\n",
    "Sx(u,x) = dxdu(u)*(u/x)\n",
    "Sx(5000,1.53)\n",
    "#Sensitivity of x to the 5000 dollar drop in subscribers"
   ]
  },
  {
   "cell_type": "code",
   "execution_count": 77,
   "metadata": {
    "collapsed": false
   },
   "outputs": [
    {
     "data": {
      "text/plain": [
       "4.67885302720138e-9"
      ]
     },
     "execution_count": 77,
     "metadata": {
     },
     "output_type": "execute_result"
    }
   ],
   "source": [
    "dydu(u) = diff((1/40*(87*u - 16000)/(u - 5)),u)\n",
    "Sy(u,y) = dydu(u)*(y/u)\n",
    "n(Sy(5000,1.5))\n",
    "#Sensitivity of y to the 5000 dollar drop in subscribers"
   ]
  },
  {
   "cell_type": "markdown",
   "metadata": {
    "collapsed": false
   },
   "source": [
    "##### Part C"
   ]
  },
  {
   "cell_type": "code",
   "execution_count": 78,
   "metadata": {
    "collapsed": false
   },
   "outputs": [
   ],
   "source": [
    "j = var('j')\n",
    "c(x) = 1.50 + .10*x\n",
    "s(x,y) = 80000 - 5000*x - 1000*y\n",
    "g(y,j) = 350 - j*y\n",
    "a(y) = 250 + 100*y\n",
    "p(x,y,j) = c(x)*s(x,y) + a(y)*g(y,j)"
   ]
  },
  {
   "cell_type": "code",
   "execution_count": 79,
   "metadata": {
    "collapsed": false
   },
   "outputs": [
    {
     "data": {
      "text/plain": [
       "[[x == 5/2*(5*j - 134)/(20*j - 1), y == -5*(5*j - 669)/(20*j - 1)]]"
      ]
     },
     "execution_count": 79,
     "metadata": {
     },
     "output_type": "execute_result"
    }
   ],
   "source": [
    "solve([diff(p(x,y,j),x)==0, diff(p(x,y,j),y)==0],x,y)"
   ]
  },
  {
   "cell_type": "code",
   "execution_count": 80,
   "metadata": {
    "collapsed": false
   },
   "outputs": [
    {
     "data": {
      "text/plain": [
       "875.816993464052"
      ]
     },
     "execution_count": 80,
     "metadata": {
     },
     "output_type": "execute_result"
    }
   ],
   "source": [
    "dxdj(j) = solve((5/2*(5*j - 134)/(20*j - 1)),j)\n",
    "Sx(x,j) = 134/5 *(j/x)\n",
    "Sx(1.53,50)\n",
    "#Sensitivity of x to 50 drop in pages"
   ]
  },
  {
   "cell_type": "code",
   "execution_count": 81,
   "metadata": {
    "collapsed": false
   },
   "outputs": [
    {
     "data": {
      "text/plain": [
       "-2.23363169642783"
      ]
     },
     "execution_count": 81,
     "metadata": {
     },
     "output_type": "execute_result"
    }
   ],
   "source": [
    "dydj(j) = diff((-5*(5*j - 669)/(20*j - 1)),j)\n",
    "Sy(y,j) = dydj(j)*(j/y)\n",
    "Sy(1.5, 50)\n",
    "#Sensitivity of y to the 50 dollar amount"
   ]
  },
  {
   "cell_type": "markdown",
   "metadata": {
    "collapsed": false
   },
   "source": [
    "##### Part D"
   ]
  },
  {
   "cell_type": "code",
   "execution_count": 82,
   "metadata": {
    "collapsed": false
   },
   "outputs": [
    {
     "data": {
      "text/plain": [
       "[[y == (3/2), L == 1]]"
      ]
     },
     "execution_count": 82,
     "metadata": {
     },
     "output_type": "execute_result"
    }
   ],
   "source": [
    "g = a(y)\n",
    "L = var('L')\n",
    "solve([diff(g,y)*L ==100, g == 400],y,L)"
   ]
  },
  {
   "cell_type": "markdown",
   "metadata": {
    "collapsed": false
   },
   "source": [
    "This helps us see that y can only go up to 1.5 for the advertising to be 400 per page or less. The value of the lagrange multiplier of 1/100.<br/>\n",
    "L = 1 because the derivative of a(y) is 100 and we could then solve for the answer algebrically. At g = a(y) = 400 solve for y, we get that y is equal to 1.5"
   ]
  },
  {
   "cell_type": "code",
   "execution_count": 0,
   "metadata": {
    "collapsed": false
   },
   "outputs": [
   ],
   "source": [
   ]
  }
 ],
 "metadata": {
  "kernelspec": {
   "display_name": "SageMath (stable)",
   "language": "sagemath",
   "metadata": {
    "cocalc": {
     "description": "Open-source mathematical software system",
     "priority": 10,
     "url": "https://www.sagemath.org/"
    }
   },
   "name": "sagemath"
  },
  "language_info": {
   "codemirror_mode": {
    "name": "ipython",
    "version": 2
   },
   "file_extension": ".py",
   "mimetype": "text/x-python",
   "name": "python",
   "nbconvert_exporter": "python",
   "pygments_lexer": "ipython2",
   "version": "2.7.15"
  }
 },
 "nbformat": 4,
 "nbformat_minor": 0
}