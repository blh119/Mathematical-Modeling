{
 "cells": [
  {
   "cell_type": "markdown",
   "metadata": {
    "collapsed": false
   },
   "source": [
    "Brian Holliday<br/>\n",
    "Professor Masuda<br/>\n",
    "Mathematical Modeling I<br/>\n",
    "20 December 2019<br/><br/>\n",
    "\n",
    "## Project 3"
   ]
  },
  {
   "cell_type": "code",
   "execution_count": 1,
   "metadata": {
    "collapsed": false
   },
   "outputs": [
   ],
   "source": [
    "load('linProg.sage')"
   ]
  },
  {
   "cell_type": "markdown",
   "metadata": {
    "collapsed": false
   },
   "source": [
    "#### Part A"
   ]
  },
  {
   "cell_type": "code",
   "execution_count": 9,
   "metadata": {
    "collapsed": false
   },
   "outputs": [
    {
     "name": "stdout",
     "output_type": "stream",
     "text": [
      "GLPK 4.63 - SENSITIVITY ANALYSIS REPORT                                                                         Page   1\n",
      " \n",
      " Problem:    \n",
      " Objective:  198200 (MINimum)\n",
      " \n",
      "    No. Row name     St      Activity         Slack   Lower bound       Activity      Obj coef  Obj value at Limiting\n",
      "                                           Marginal   Upper bound          range         range   break point variable\n",
      " ------ ------------ -- ------------- ------------- -------------  ------------- ------------- ------------- ------------\n",
      "      1 Mill_1       NU     105.00000        .               -Inf      105.00000          -Inf  198200.00000 x11\n",
      "                                          -80.00000     105.00000      175.00000      80.00000  192600.00000 x21\n",
      " \n",
      "      2 Mill_2       BS     160.00000        .               -Inf      160.00000     -80.00000  185400.00000 Mill_1\n",
      "                                             .          160.00000      160.00000          +Inf          +Inf\n",
      " \n",
      "      3 Mill_3       NU      85.00000        .               -Inf       85.00000          -Inf  198200.00000 Mill_2\n",
      "                                         -165.00000      85.00000      175.00000     165.00000  183350.00000 x22\n",
      " \n",
      "      4 MI           NL      70.00000        .           70.00000         .         -510.00000  162500.00000 x21\n",
      "                                          510.00000          +Inf       70.00000          +Inf  198200.00000 Mill_2\n",
      " \n",
      "      5 NY           NL     100.00000        .          100.00000       10.00000    -590.00000  145100.00000 x22\n",
      "                                          590.00000          +Inf      100.00000          +Inf  198200.00000 Mill_2\n",
      " \n",
      "      6 CA           NL     105.00000        .          105.00000       35.00000    -760.00000  145000.00000 x21\n",
      "                                          760.00000          +Inf      105.00000          +Inf  198200.00000 x11\n",
      " \n",
      "      7 GA           NL      75.00000        .           75.00000         .         -615.00000  152075.00000 x34\n",
      "                                          615.00000          +Inf       75.00000          +Inf  198200.00000 Mill_2\n",
      " \n",
      " GLPK 4.63 - SENSITIVITY ANALYSIS REPORT                                                                         Page   2\n",
      " \n",
      " Problem:    \n",
      " Objective:  198200 (MINimum)\n",
      " \n",
      "    No. Column name  St      Activity      Obj coef   Lower bound       Activity      Obj coef  Obj value at Limiting\n",
      "                                           Marginal   Upper bound          range         range   break point variable\n",
      " ------ ------------ -- ------------- ------------- -------------  ------------- ------------- ------------- ------------\n",
      "      1 x11          BS        .          430.00000        .            70.00000     300.00000  198200.00000 x23\n",
      "                                             .               +Inf      -90.00000     470.00000  198200.00000 x12\n",
      " \n",
      "      2 x12          NL        .          550.00000        .           -70.00000     510.00000  195400.00000 x21\n",
      "                                           40.00000          +Inf         .               +Inf  198200.00000 x11\n",
      " \n",
      "      3 x13          BS     105.00000     680.00000        .           105.00000     -80.00000  118400.00000 CA\n",
      "                                             .               +Inf       35.00000     810.00000  211850.00000 x23\n",
      " \n",
      "      4 x14          NL        .          700.00000        .           -10.00000     535.00000  196550.00000 x32\n",
      "                                          165.00000          +Inf         .               +Inf  198200.00000 x11\n",
      " \n",
      "      5 x21          BS      70.00000     510.00000        .            70.00000     470.00000  195400.00000 x12\n",
      "                                             .               +Inf       60.00000     560.00000  201700.00000 x31\n",
      " \n",
      "      6 x22          BS      90.00000     590.00000        .           100.00000     540.00000  193700.00000 x31\n",
      "                                             .               +Inf       90.00000     630.00000  201800.00000 x12\n",
      " \n",
      "      7 x23          NL        .          890.00000        .              .          760.00000  198200.00000 x11\n",
      "                                          130.00000          +Inf       70.00000          +Inf  207300.00000 x21\n",
      " \n",
      "      8 x24          NL        .          685.00000        .           -10.00000     615.00000  197500.00000 x32\n",
      "                                           70.00000          +Inf       75.00000          +Inf  203450.00000 x34\n",
      " \n",
      "      9 x31          NL        .          395.00000        .           -90.00000     345.00000  193700.00000 x22\n",
      "                                           50.00000          +Inf       10.00000          +Inf  198700.00000 x32\n",
      " \n",
      "     10 x32          BS      10.00000     425.00000        .            85.00000     355.00000  197500.00000 x24\n",
      "                                             .               +Inf      -60.00000     475.00000  198700.00000 x31\n",
      " \n",
      " GLPK 4.63 - SENSITIVITY ANALYSIS REPORT                                                                         Page   3\n",
      " \n",
      " Problem:    \n",
      " Objective:  198200 (MINimum)\n",
      " \n",
      "    No. Column name  St      Activity      Obj coef   Lower bound       Activity      Obj coef  Obj value at Limiting\n",
      "                                           Marginal   Upper bound          range         range   break point variable\n",
      " ------ ------------ -- ------------- ------------- -------------  ------------- ------------- ------------- ------------\n",
      "     11 x33          NL        .          910.00000        .              .          595.00000  198200.00000 x11\n",
      "                                          315.00000          +Inf       10.00000          +Inf  201350.00000 x32\n",
      " \n",
      "     12 x34          BS      75.00000     450.00000        .            75.00000    -165.00000  152075.00000 GA\n",
      "                                             .               +Inf      -15.00000     520.00000  203450.00000 x24\n",
      " \n",
      " End of report\n",
      " \n",
      "\n"
     ]
    }
   ],
   "source": [
    "v = ['x11','x12','x13','x14',\n",
    "    'x21','x22','x23','x24',#variables\n",
    "    'x31','x32','x33','x34']\n",
    "v2 = ['Mill_1', 'Mill_2','Mill_3',\n",
    "      'MI','NY','CA','GA']#constraits \n",
    "f = [430,550,680,700,\n",
    "     510,590,890,685,\n",
    "     395,425,910,450]\n",
    "c = [105,160,85,70,100,105,75]\n",
    "m = [1,1,1,-1,-1,-1,-1] \n",
    "M = [[1,1,1,1, 0,0,0,0, 0,0,0,0], #Mill_1\n",
    "     [0,0,0,0, 1,1,1,1, 0,0,0,0], #Mill_2\n",
    "     [0,0,0,0, 0,0,0,0, 1,1,1,1], #Mill_3\n",
    "     [1,0,0,0, 1,0,0,0, 1,0,0,0], #Michigan\n",
    "     [0,1,0,0, 0,1,0,0, 0,1,0,0], #New York\n",
    "     [0,0,1,0, 0,0,1,0, 0,0,1,0], #California\n",
    "     [0,0,0,1, 0,0,0,1, 0,0,0,1]] #Georgia\n",
    "lp(v, v2, f, M, m, c, mx=False)"
   ]
  },
  {
   "cell_type": "markdown",
   "metadata": {
    "collapsed": false
   },
   "source": [
    "The mimimum cost for shipping is: $198,200\n",
    "\n",
    "There are 105 truck loads from Textile Mill 1 to California<br/>\n",
    "There are 70 truck loads from Textile Mill 2 to Michigan<br/>\n",
    "There are 90 truck loads from Textile Mill 2 to New York<br/>\n",
    "There are 10 truck loads from Textile Mill 3 to New York<br/>\n",
    "There are 75 truck loads from Textile Mill 3 to Georgia"
   ]
  },
  {
   "cell_type": "markdown",
   "metadata": {
    "collapsed": false
   },
   "source": [
    "#### Part B\n",
    "Shadow Prices"
   ]
  },
  {
   "cell_type": "code",
   "execution_count": 11,
   "metadata": {
    "collapsed": false
   },
   "outputs": [
    {
     "name": "stdout",
     "output_type": "stream",
     "text": [
      "GLPK 4.63 - SENSITIVITY ANALYSIS REPORT                                                                         Page   1\n",
      " \n",
      " Problem:    \n",
      " Objective:  198120 (MINimum)\n",
      " \n",
      "    No. Row name     St      Activity         Slack   Lower bound       Activity      Obj coef  Obj value at Limiting\n",
      "                                           Marginal   Upper bound          range         range   break point variable\n",
      " ------ ------------ -- ------------- ------------- -------------  ------------- ------------- ------------- ------------\n",
      "      1 Mill_1       NU     106.00000        .               -Inf      105.00000          -Inf  198200.00000 Mill_2\n",
      "                                          -80.00000     106.00000      175.00000      80.00000  192600.00000 x21\n",
      " \n",
      "      2 Mill_2       BS     159.00000       1.00000          -Inf      160.00000     -80.00000  185400.00000 Mill_1\n",
      "                                             .          160.00000      159.00000          +Inf          +Inf\n",
      " \n",
      "      3 Mill_3       NU      85.00000        .               -Inf       84.00000          -Inf  198285.00000 Mill_2\n",
      "                                         -165.00000      85.00000      175.00000     165.00000  183270.00000 x22\n",
      " \n",
      "      4 MI           NL      70.00000        .           70.00000        1.00000    -510.00000  162930.00000 x21\n",
      "                                          510.00000          +Inf       71.00000          +Inf  198630.00000 Mill_2\n",
      " \n",
      "      5 NY           NL     100.00000        .          100.00000       10.00000    -590.00000  145020.00000 x22\n",
      "                                          590.00000          +Inf      101.00000          +Inf  198710.00000 Mill_2\n",
      " \n",
      "      6 CA           NL     105.00000        .          105.00000       36.00000    -760.00000  145680.00000 x21\n",
      "                                          760.00000          +Inf      106.00000          +Inf  198880.00000 Mill_2\n",
      " \n",
      "      7 GA           NL      75.00000        .           75.00000         .         -615.00000  151995.00000 x34\n",
      "                                          615.00000          +Inf       76.00000          +Inf  198735.00000 Mill_2\n",
      " \n",
      " GLPK 4.63 - SENSITIVITY ANALYSIS REPORT                                                                         Page   2\n",
      " \n",
      " Problem:    \n",
      " Objective:  198120 (MINimum)\n",
      " \n",
      "    No. Column name  St      Activity      Obj coef   Lower bound       Activity      Obj coef  Obj value at Limiting\n",
      "                                           Marginal   Upper bound          range         range   break point variable\n",
      " ------ ------------ -- ------------- ------------- -------------  ------------- ------------- ------------- ------------\n",
      "      1 x11          BS       1.00000     430.00000        .            70.00000     300.00000  197990.00000 x23\n",
      "                                             .               +Inf      -89.00000     470.00000  198160.00000 x12\n",
      " \n",
      "      2 x12          NL        .          550.00000        .           -69.00000     510.00000  195360.00000 x21\n",
      "                                           40.00000          +Inf        1.00000          +Inf  198160.00000 x11\n",
      " \n",
      "      3 x13          BS     105.00000     680.00000        .           106.00000     -80.00000  118320.00000 CA\n",
      "                                             .               +Inf       36.00000     810.00000  211770.00000 x23\n",
      " \n",
      "      4 x14          NL        .          700.00000        .           -10.00000     535.00000  196470.00000 x32\n",
      "                                          165.00000          +Inf        1.00000          +Inf  198285.00000 x11\n",
      " \n",
      "      5 x21          BS      69.00000     510.00000        .            70.00000     470.00000  195360.00000 x12\n",
      "                                             .               +Inf       59.00000     560.00000  201570.00000 x31\n",
      " \n",
      "      6 x22          BS      90.00000     590.00000        .           100.00000     540.00000  193620.00000 x31\n",
      "                                             .               +Inf       89.00000     630.00000  201720.00000 x12\n",
      " \n",
      "      7 x23          NL        .          890.00000        .            -1.00000     760.00000  197990.00000 x11\n",
      "                                          130.00000          +Inf       69.00000          +Inf  207090.00000 x21\n",
      " \n",
      "      8 x24          NL        .          685.00000        .           -10.00000     615.00000  197420.00000 x32\n",
      "                                           70.00000          +Inf       75.00000          +Inf  203370.00000 x34\n",
      " \n",
      "      9 x31          NL        .          395.00000        .           -90.00000     345.00000  193620.00000 x22\n",
      "                                           50.00000          +Inf       10.00000          +Inf  198620.00000 x32\n",
      " \n",
      "     10 x32          BS      10.00000     425.00000        .            85.00000     355.00000  197420.00000 x24\n",
      "                                             .               +Inf      -59.00000     475.00000  198620.00000 x31\n",
      " \n",
      " GLPK 4.63 - SENSITIVITY ANALYSIS REPORT                                                                         Page   3\n",
      " \n",
      " Problem:    \n",
      " Objective:  198120 (MINimum)\n",
      " \n",
      "    No. Column name  St      Activity      Obj coef   Lower bound       Activity      Obj coef  Obj value at Limiting\n",
      "                                           Marginal   Upper bound          range         range   break point variable\n",
      " ------ ------------ -- ------------- ------------- -------------  ------------- ------------- ------------- ------------\n",
      "     11 x33          NL        .          910.00000        .            -1.00000     595.00000  197805.00000 x11\n",
      "                                          315.00000          +Inf       10.00000          +Inf  201270.00000 x32\n",
      " \n",
      "     12 x34          BS      75.00000     450.00000        .            76.00000    -165.00000  151995.00000 GA\n",
      "                                             .               +Inf      -15.00000     520.00000  203370.00000 x24\n",
      " \n",
      " End of report\n",
      " \n",
      "\n"
     ]
    }
   ],
   "source": [
    "\n",
    "c = [106,160,85,70,100,105,75]\n",
    "m = [1,1,1,-1,-1,-1,-1]\n",
    "lp(v, v2, f, M, m, c, mx=False)"
   ]
  },
  {
   "cell_type": "code",
   "execution_count": 17,
   "metadata": {
    "collapsed": false
   },
   "outputs": [
    {
     "data": {
      "text/plain": [
       "80"
      ]
     },
     "execution_count": 17,
     "metadata": {
     },
     "output_type": "execute_result"
    }
   ],
   "source": [
    "198200 - 198120 \n",
    "#an increase by 1 in the output of Mill 1 causes a 80 dollar decrese in the transportation"
   ]
  },
  {
   "cell_type": "code",
   "execution_count": 15,
   "metadata": {
    "collapsed": false
   },
   "outputs": [
    {
     "name": "stdout",
     "output_type": "stream",
     "text": [
      "GLPK 4.63 - SENSITIVITY ANALYSIS REPORT                                                                         Page   1\n",
      " \n",
      " Problem:    \n",
      " Objective:  198200 (MINimum)\n",
      " \n",
      "    No. Row name     St      Activity         Slack   Lower bound       Activity      Obj coef  Obj value at Limiting\n",
      "                                           Marginal   Upper bound          range         range   break point variable\n",
      " ------ ------------ -- ------------- ------------- -------------  ------------- ------------- ------------- ------------\n",
      "      1 Mill_1       NU     105.00000        .               -Inf      105.00000          -Inf  198200.00000 x11\n",
      "                                          -80.00000     105.00000      175.00000      80.00000  192600.00000 x21\n",
      " \n",
      "      2 Mill_2       BS     160.00000       1.00000          -Inf      160.00000     -80.00000  185400.00000 Mill_1\n",
      "                                             .          161.00000      160.00000          +Inf          +Inf\n",
      " \n",
      "      3 Mill_3       NU      85.00000        .               -Inf       84.00000          -Inf  198365.00000 Mill_2\n",
      "                                         -165.00000      85.00000      175.00000     165.00000  183350.00000 x22\n",
      " \n",
      "      4 MI           NL      70.00000        .           70.00000         .         -510.00000  162500.00000 x21\n",
      "                                          510.00000          +Inf       71.00000          +Inf  198710.00000 Mill_2\n",
      " \n",
      "      5 NY           NL     100.00000        .          100.00000       10.00000    -590.00000  145100.00000 x22\n",
      "                                          590.00000          +Inf      101.00000          +Inf  198790.00000 Mill_2\n",
      " \n",
      "      6 CA           NL     105.00000        .          105.00000       35.00000    -760.00000  145000.00000 x21\n",
      "                                          760.00000          +Inf      105.00000          +Inf  198200.00000 x11\n",
      " \n",
      "      7 GA           NL      75.00000        .           75.00000         .         -615.00000  152075.00000 x34\n",
      "                                          615.00000          +Inf       76.00000          +Inf  198815.00000 Mill_2\n",
      " \n",
      " GLPK 4.63 - SENSITIVITY ANALYSIS REPORT                                                                         Page   2\n",
      " \n",
      " Problem:    \n",
      " Objective:  198200 (MINimum)\n",
      " \n",
      "    No. Column name  St      Activity      Obj coef   Lower bound       Activity      Obj coef  Obj value at Limiting\n",
      "                                           Marginal   Upper bound          range         range   break point variable\n",
      " ------ ------------ -- ------------- ------------- -------------  ------------- ------------- ------------- ------------\n",
      "      1 x11          BS        .          430.00000        .            70.00000     300.00000  198200.00000 x23\n",
      "                                             .               +Inf      -90.00000     470.00000  198200.00000 x12\n",
      " \n",
      "      2 x12          NL        .          550.00000        .           -70.00000     510.00000  195400.00000 x21\n",
      "                                           40.00000          +Inf         .               +Inf  198200.00000 x11\n",
      " \n",
      "      3 x13          BS     105.00000     680.00000        .           105.00000     -80.00000  118400.00000 CA\n",
      "                                             .               +Inf       35.00000     810.00000  211850.00000 x23\n",
      " \n",
      "      4 x14          NL        .          700.00000        .           -10.00000     535.00000  196550.00000 x32\n",
      "                                          165.00000          +Inf         .               +Inf  198200.00000 x11\n",
      " \n",
      "      5 x21          BS      70.00000     510.00000        .            70.00000     470.00000  195400.00000 x12\n",
      "                                             .               +Inf       60.00000     560.00000  201700.00000 x31\n",
      " \n",
      "      6 x22          BS      90.00000     590.00000        .           100.00000     540.00000  193700.00000 x31\n",
      "                                             .               +Inf       90.00000     630.00000  201800.00000 x12\n",
      " \n",
      "      7 x23          NL        .          890.00000        .              .          760.00000  198200.00000 x11\n",
      "                                          130.00000          +Inf       70.00000          +Inf  207300.00000 x21\n",
      " \n",
      "      8 x24          NL        .          685.00000        .           -10.00000     615.00000  197500.00000 x32\n",
      "                                           70.00000          +Inf       75.00000          +Inf  203450.00000 x34\n",
      " \n",
      "      9 x31          NL        .          395.00000        .           -90.00000     345.00000  193700.00000 x22\n",
      "                                           50.00000          +Inf       10.00000          +Inf  198700.00000 x32\n",
      " \n",
      "     10 x32          BS      10.00000     425.00000        .            85.00000     355.00000  197500.00000 x24\n",
      "                                             .               +Inf      -60.00000     475.00000  198700.00000 x31\n",
      " \n",
      " GLPK 4.63 - SENSITIVITY ANALYSIS REPORT                                                                         Page   3\n",
      " \n",
      " Problem:    \n",
      " Objective:  198200 (MINimum)\n",
      " \n",
      "    No. Column name  St      Activity      Obj coef   Lower bound       Activity      Obj coef  Obj value at Limiting\n",
      "                                           Marginal   Upper bound          range         range   break point variable\n",
      " ------ ------------ -- ------------- ------------- -------------  ------------- ------------- ------------- ------------\n",
      "     11 x33          NL        .          910.00000        .              .          595.00000  198200.00000 x11\n",
      "                                          315.00000          +Inf       10.00000          +Inf  201350.00000 x32\n",
      " \n",
      "     12 x34          BS      75.00000     450.00000        .            76.00000    -165.00000  152075.00000 GA\n",
      "                                             .               +Inf      -15.00000     520.00000  203450.00000 x24\n",
      " \n",
      " End of report\n",
      " \n",
      "\n"
     ]
    }
   ],
   "source": [
    "c = [105,161,85,70,100,105,75]\n",
    "m = [1,1,1,-1,-1,-1,-1]\n",
    "lp(v, v2, f, M, m, c, mx=False)"
   ]
  },
  {
   "cell_type": "markdown",
   "metadata": {
    "collapsed": false
   },
   "source": [
    "An increase of one in the output of Mill 2 leaves us with the same transportation cost"
   ]
  },
  {
   "cell_type": "code",
   "execution_count": 16,
   "metadata": {
    "collapsed": false
   },
   "outputs": [
    {
     "name": "stdout",
     "output_type": "stream",
     "text": [
      "GLPK 4.63 - SENSITIVITY ANALYSIS REPORT                                                                         Page   1\n",
      " \n",
      " Problem:    \n",
      " Objective:  198035 (MINimum)\n",
      " \n",
      "    No. Row name     St      Activity         Slack   Lower bound       Activity      Obj coef  Obj value at Limiting\n",
      "                                           Marginal   Upper bound          range         range   break point variable\n",
      " ------ ------------ -- ------------- ------------- -------------  ------------- ------------- ------------- ------------\n",
      "      1 Mill_1       NU     105.00000        .               -Inf      105.00000          -Inf  198035.00000 x11\n",
      "                                          -80.00000     105.00000      175.00000      80.00000  192435.00000 x21\n",
      " \n",
      "      2 Mill_2       BS     159.00000       1.00000          -Inf      159.00000     -80.00000  185315.00000 Mill_1\n",
      "                                             .          160.00000      159.00000          +Inf          +Inf\n",
      " \n",
      "      3 Mill_3       NU      86.00000        .               -Inf       85.00000          -Inf  198200.00000 Mill_2\n",
      "                                         -165.00000      86.00000      175.00000     165.00000  183350.00000 x22\n",
      " \n",
      "      4 MI           NL      70.00000        .           70.00000         .         -510.00000  162335.00000 x21\n",
      "                                          510.00000          +Inf       71.00000          +Inf  198545.00000 Mill_2\n",
      " \n",
      "      5 NY           NL     100.00000        .          100.00000       11.00000    -590.00000  145525.00000 x22\n",
      "                                          590.00000          +Inf      101.00000          +Inf  198625.00000 Mill_2\n",
      " \n",
      "      6 CA           NL     105.00000        .          105.00000       35.00000    -760.00000  144835.00000 x21\n",
      "                                          760.00000          +Inf      105.00000          +Inf  198035.00000 x11\n",
      " \n",
      "      7 GA           NL      75.00000        .           75.00000         .         -615.00000  151910.00000 x34\n",
      "                                          615.00000          +Inf       76.00000          +Inf  198650.00000 Mill_2\n",
      " \n",
      " GLPK 4.63 - SENSITIVITY ANALYSIS REPORT                                                                         Page   2\n",
      " \n",
      " Problem:    \n",
      " Objective:  198035 (MINimum)\n",
      " \n",
      "    No. Column name  St      Activity      Obj coef   Lower bound       Activity      Obj coef  Obj value at Limiting\n",
      "                                           Marginal   Upper bound          range         range   break point variable\n",
      " ------ ------------ -- ------------- ------------- -------------  ------------- ------------- ------------- ------------\n",
      "      1 x11          BS        .          430.00000        .            70.00000     300.00000  198035.00000 x23\n",
      "                                             .               +Inf      -89.00000     470.00000  198035.00000 x12\n",
      " \n",
      "      2 x12          NL        .          550.00000        .           -70.00000     510.00000  195235.00000 x21\n",
      "                                           40.00000          +Inf         .               +Inf  198035.00000 x11\n",
      " \n",
      "      3 x13          BS     105.00000     680.00000        .           105.00000     -80.00000  118235.00000 CA\n",
      "                                             .               +Inf       35.00000     810.00000  211685.00000 x23\n",
      " \n",
      "      4 x14          NL        .          700.00000        .           -11.00000     535.00000  196220.00000 x32\n",
      "                                          165.00000          +Inf         .               +Inf  198035.00000 x11\n",
      " \n",
      "      5 x21          BS      70.00000     510.00000        .            70.00000     470.00000  195235.00000 x12\n",
      "                                             .               +Inf       59.00000     560.00000  201535.00000 x31\n",
      " \n",
      "      6 x22          BS      89.00000     590.00000        .           100.00000     540.00000  193585.00000 x31\n",
      "                                             .               +Inf       89.00000     630.00000  201595.00000 x12\n",
      " \n",
      "      7 x23          NL        .          890.00000        .              .          760.00000  198035.00000 x11\n",
      "                                          130.00000          +Inf       70.00000          +Inf  207135.00000 x21\n",
      " \n",
      "      8 x24          NL        .          685.00000        .           -11.00000     615.00000  197265.00000 x32\n",
      "                                           70.00000          +Inf       75.00000          +Inf  203285.00000 x34\n",
      " \n",
      "      9 x31          NL        .          395.00000        .           -89.00000     345.00000  193585.00000 x22\n",
      "                                           50.00000          +Inf       11.00000          +Inf  198585.00000 x32\n",
      " \n",
      "     10 x32          BS      11.00000     425.00000        .            86.00000     355.00000  197265.00000 x24\n",
      "                                             .               +Inf      -59.00000     475.00000  198585.00000 x31\n",
      " \n",
      " GLPK 4.63 - SENSITIVITY ANALYSIS REPORT                                                                         Page   3\n",
      " \n",
      " Problem:    \n",
      " Objective:  198035 (MINimum)\n",
      " \n",
      "    No. Column name  St      Activity      Obj coef   Lower bound       Activity      Obj coef  Obj value at Limiting\n",
      "                                           Marginal   Upper bound          range         range   break point variable\n",
      " ------ ------------ -- ------------- ------------- -------------  ------------- ------------- ------------- ------------\n",
      "     11 x33          NL        .          910.00000        .              .          595.00000  198035.00000 x11\n",
      "                                          315.00000          +Inf       11.00000          +Inf  201500.00000 x32\n",
      " \n",
      "     12 x34          BS      75.00000     450.00000        .            76.00000    -165.00000  151910.00000 GA\n",
      "                                             .               +Inf      -14.00000     520.00000  203285.00000 x24\n",
      " \n",
      " End of report\n",
      " \n",
      "\n"
     ]
    }
   ],
   "source": [
    "c = [105,160,86,70,100,105,75]\n",
    "m = [1,1,1,-1,-1,-1,-1]\n",
    "lp(v, v2, f, M, m, c, mx=False)"
   ]
  },
  {
   "cell_type": "code",
   "execution_count": 18,
   "metadata": {
    "collapsed": false
   },
   "outputs": [
    {
     "data": {
      "text/plain": [
       "165"
      ]
     },
     "execution_count": 18,
     "metadata": {
     },
     "output_type": "execute_result"
    }
   ],
   "source": [
    "198200 - 198035"
   ]
  },
  {
   "cell_type": "markdown",
   "metadata": {
    "collapsed": false
   },
   "source": [
    "An increase of one in the output of Mill 3 causes a decrease in the transportation cost of 165"
   ]
  },
  {
   "cell_type": "markdown",
   "metadata": {
    "collapsed": false
   },
   "source": [
    "#### Part C"
   ]
  },
  {
   "cell_type": "markdown",
   "metadata": {
    "collapsed": false
   },
   "source": [
    "Imagine if the shipping cost we cut in half for all of the routes"
   ]
  },
  {
   "cell_type": "code",
   "execution_count": 35,
   "metadata": {
    "collapsed": false
   },
   "outputs": [
    {
     "name": "stdout",
     "output_type": "stream",
     "text": [
      "Optimal (min) value:  99100.0\n",
      "\n",
      "Variable      Value\n",
      "----------  -------\n",
      "x11               0\n",
      "x12               0\n",
      "x13             105\n",
      "x14               0\n",
      "x21              70\n",
      "x22              90\n",
      "x23               0\n",
      "x24               0\n",
      "x31               0\n",
      "x32              10\n",
      "x33               0\n",
      "x34              75\n",
      "\n",
      "Constraint      Slack\n",
      "------------  -------\n",
      "Mill_1              0\n",
      "Mill_2              0\n",
      "Mill_3              0\n",
      "MI                  0\n",
      "NY                  0\n",
      "CA                  0\n",
      "GA                  0\n"
     ]
    }
   ],
   "source": [
    "v = ['x11','x12','x13','x14',\n",
    "    'x21','x22','x23','x24',#variables\n",
    "    'x31','x32','x33','x34']\n",
    "v2 = ['Mill_1', 'Mill_2','Mill_3',\n",
    "      'MI','NY','CA','GA']#constraits \n",
    "f = [430/2,550/2,680/2,700/2,\n",
    "     510/2,590/2,890/2,685/2,\n",
    "     395/2,425/2,910/2,450/2]\n",
    "c = [105,160,85,70,100,105,75]\n",
    "m = [1,1,1,-1,-1,-1,-1]\n",
    "M = [[1,1,1,1, 0,0,0,0, 0,0,0,0], #Mill_1\n",
    "     [0,0,0,0, 1,1,1,1, 0,0,0,0], #Mill_2\n",
    "     [0,0,0,0, 0,0,0,0, 1,1,1,1], #Mill_3\n",
    "     [1,0,0,0, 1,0,0,0, 1,0,0,0], #Michigan\n",
    "     [0,1,0,0, 0,1,0,0, 0,1,0,0], #New York\n",
    "     [0,0,1,0, 0,0,1,0, 0,0,1,0], #California\n",
    "     [0,0,0,1, 0,0,0,1, 0,0,0,1]] #Georgia\n",
    "lpInt(v, v2, f, M, m, c, mx=False) #Integer Programming Method"
   ]
  },
  {
   "cell_type": "markdown",
   "metadata": {
    "collapsed": false
   },
   "source": [
    "We have the same allocation for the shipments as Part A, so we have to see which shipments cost the most:<br/>"
   ]
  },
  {
   "cell_type": "code",
   "execution_count": 36,
   "metadata": {
    "collapsed": false
   },
   "outputs": [
    {
     "data": {
      "text/plain": [
       "35700"
      ]
     },
     "execution_count": 36,
     "metadata": {
     },
     "output_type": "execute_result"
    }
   ],
   "source": [
    "105*(680/2) #x13"
   ]
  },
  {
   "cell_type": "code",
   "execution_count": 37,
   "metadata": {
    "collapsed": false
   },
   "outputs": [
    {
     "data": {
      "text/plain": [
       "17850"
      ]
     },
     "execution_count": 37,
     "metadata": {
     },
     "output_type": "execute_result"
    }
   ],
   "source": [
    "70 * (510/2) #x21"
   ]
  },
  {
   "cell_type": "code",
   "execution_count": 38,
   "metadata": {
    "collapsed": false
   },
   "outputs": [
    {
     "data": {
      "text/plain": [
       "26550"
      ]
     },
     "execution_count": 38,
     "metadata": {
     },
     "output_type": "execute_result"
    }
   ],
   "source": [
    "90 * (590/2) #x22"
   ]
  },
  {
   "cell_type": "code",
   "execution_count": 32,
   "metadata": {
    "collapsed": false
   },
   "outputs": [
    {
     "data": {
      "text/plain": [
       "4250"
      ]
     },
     "execution_count": 32,
     "metadata": {
     },
     "output_type": "execute_result"
    }
   ],
   "source": [
    "10 * 425 #x32"
   ]
  },
  {
   "cell_type": "code",
   "execution_count": 33,
   "metadata": {
    "collapsed": false
   },
   "outputs": [
    {
     "data": {
      "text/plain": [
       "33750"
      ]
     },
     "execution_count": 33,
     "metadata": {
     },
     "output_type": "execute_result"
    }
   ],
   "source": [
    "75 * 450 #x34"
   ]
  },
  {
   "cell_type": "markdown",
   "metadata": {
    "collapsed": false
   },
   "source": [
    "We could see that much of the shipping cost is being taken by x13, x21, and x22. So these routes will be given to the fuel efficient trucks<br/>\n",
    "New Cost:118100<br/>\n",
    "Savings: 80100"
   ]
  },
  {
   "cell_type": "markdown",
   "metadata": {
    "collapsed": false
   },
   "source": [
    "#### Part D"
   ]
  },
  {
   "cell_type": "markdown",
   "metadata": {
    "collapsed": false
   },
   "source": [
    "4 trucks"
   ]
  },
  {
   "cell_type": "code",
   "execution_count": 39,
   "metadata": {
    "collapsed": false
   },
   "outputs": [
    {
     "name": "stdout",
     "output_type": "stream",
     "text": [
      "GLPK 4.63 - SENSITIVITY ANALYSIS REPORT                                                                         Page   1\n",
      " \n",
      " Problem:    \n",
      " Objective:  101225 (MINimum)\n",
      " \n",
      "    No. Row name     St      Activity         Slack   Lower bound       Activity      Obj coef  Obj value at Limiting\n",
      "                                           Marginal   Upper bound          range         range   break point variable\n",
      " ------ ------------ -- ------------- ------------- -------------  ------------- ------------- ------------- ------------\n",
      "      1 Mill_1       NU     105.00000        .               -Inf      105.00000          -Inf  101225.00000 Mill_3\n",
      "                                         -570.00000     105.00000      105.00000     570.00000  101225.00000 x33\n",
      " \n",
      "      2 Mill_2       NU     160.00000        .               -Inf      160.00000          -Inf  101225.00000 Mill_3\n",
      "                                         -130.00000     160.00000      170.00000     130.00000   99925.00000 x32\n",
      " \n",
      "      3 Mill_3       BS      85.00000        .               -Inf      175.00000    -130.00000   90175.00000 Mill_2\n",
      "                                             .           85.00000       85.00000          +Inf          +Inf\n",
      " \n",
      "      4 MI           NL      70.00000        .           70.00000       60.00000    -385.00000   97375.00000 x32\n",
      "                                          385.00000          +Inf       70.00000          +Inf  101225.00000 Mill_3\n",
      " \n",
      "      5 NY           NL     100.00000        .          100.00000       90.00000    -425.00000   96975.00000 x32\n",
      "                                          425.00000          +Inf      100.00000          +Inf  101225.00000 Mill_3\n",
      " \n",
      "      6 CA           NL     105.00000        .          105.00000      105.00000    -910.00000  101225.00000 x33\n",
      "                                          910.00000          +Inf      105.00000          +Inf  101225.00000 Mill_3\n",
      " \n",
      "      7 GA           NL      75.00000        .           75.00000         .         -225.00000   84350.00000 x34\n",
      "                                          225.00000          +Inf       75.00000          +Inf  101225.00000 Mill_3\n",
      " \n",
      " GLPK 4.63 - SENSITIVITY ANALYSIS REPORT                                                                         Page   2\n",
      " \n",
      " Problem:    \n",
      " Objective:  101225 (MINimum)\n",
      " \n",
      "    No. Column name  St      Activity      Obj coef   Lower bound       Activity      Obj coef  Obj value at Limiting\n",
      "                                           Marginal   Upper bound          range         range   break point variable\n",
      " ------ ------------ -- ------------- ------------- -------------  ------------- ------------- ------------- ------------\n",
      "      1 x11          NL        .          430.00000        .              .         -185.00000  101225.00000 x33\n",
      "                                          615.00000          +Inf       10.00000          +Inf  107375.00000 x32\n",
      " \n",
      "      2 x12          NL        .          550.00000        .              .         -145.00000  101225.00000 x33\n",
      "                                          695.00000          +Inf       10.00000          +Inf  108175.00000 x32\n",
      " \n",
      "      3 x13          BS     105.00000     340.00000        .           105.00000          -Inf          -Inf\n",
      "                                             .               +Inf      105.00000     910.00000  161075.00000 Mill_1\n",
      " \n",
      "      4 x14          NL        .          700.00000        .              .         -345.00000  101225.00000 x33\n",
      "                                         1045.00000          +Inf       75.00000          +Inf  179600.00000 x34\n",
      " \n",
      "      5 x21          BS      70.00000     255.00000        .            70.00000    -130.00000   74275.00000 MI\n",
      "                                             .               +Inf       60.00000     265.00000  101925.00000 x31\n",
      " \n",
      "      6 x22          BS      90.00000     295.00000        .           100.00000     285.00000  100325.00000 x31\n",
      "                                             .               +Inf       90.00000     405.00000  111125.00000 x23\n",
      " \n",
      "      7 x23          NL        .          890.00000        .           -10.00000     780.00000  100125.00000 x32\n",
      "                                          110.00000          +Inf         .               +Inf  101225.00000 x33\n",
      " \n",
      "      8 x24          NL        .          685.00000        .           -10.00000      95.00000   95325.00000 x32\n",
      "                                          590.00000          +Inf       75.00000          +Inf  145475.00000 x34\n",
      " \n",
      "      9 x31          NL        .          395.00000        .           -90.00000     385.00000  100325.00000 x22\n",
      "                                           10.00000          +Inf       10.00000          +Inf  101325.00000 x32\n",
      " \n",
      "     10 x32          BS      10.00000     425.00000        .            10.00000     315.00000  100125.00000 x23\n",
      "                                             .               +Inf      -60.00000     435.00000  101325.00000 x31\n",
      " \n",
      " GLPK 4.63 - SENSITIVITY ANALYSIS REPORT                                                                         Page   3\n",
      " \n",
      " Problem:    \n",
      " Objective:  101225 (MINimum)\n",
      " \n",
      "    No. Column name  St      Activity      Obj coef   Lower bound       Activity      Obj coef  Obj value at Limiting\n",
      "                                           Marginal   Upper bound          range         range   break point variable\n",
      " ------ ------------ -- ------------- ------------- -------------  ------------- ------------- ------------- ------------\n",
      "     11 x33          BS        .          910.00000        .              .          340.00000  101225.00000 Mill_1\n",
      "                                             .               +Inf      -90.00000    1020.00000  101225.00000 x23\n",
      " \n",
      "     12 x34          BS      75.00000     225.00000        .            75.00000        .        84350.00000 GA\n",
      "                                             .               +Inf      -15.00000     815.00000  145475.00000 x24\n",
      " \n",
      " End of report\n",
      " \n",
      "\n"
     ]
    }
   ],
   "source": [
    "v = ['x11','x12','x13','x14',\n",
    "    'x21','x22','x23','x24',#variables\n",
    "    'x31','x32','x33','x34']\n",
    "v2 = ['Mill_1', 'Mill_2','Mill_3',\n",
    "      'MI','NY','CA','GA']#constraits \n",
    "f = [430,550,680/2,700,\n",
    "     510/2,590/2,890,685,\n",
    "     395,425,910,450/2]\n",
    "c = [105,160,85,70,100,105,75]\n",
    "m = [1,1,1,-1,-1,-1,-1]\n",
    "M = [[1,1,1,1, 0,0,0,0, 0,0,0,0], #Mill_1\n",
    "     [0,0,0,0, 1,1,1,1, 0,0,0,0], #Mill_2\n",
    "     [0,0,0,0, 0,0,0,0, 1,1,1,1], #Mill_3\n",
    "     [1,0,0,0, 1,0,0,0, 1,0,0,0], #Michigan\n",
    "     [0,1,0,0, 0,1,0,0, 0,1,0,0], #New York\n",
    "     [0,0,1,0, 0,0,1,0, 0,0,1,0], #California\n",
    "     [0,0,0,1, 0,0,0,1, 0,0,0,1]] #Georgia\n",
    "lp(v, v2, f, M, m, c, mx=False)"
   ]
  },
  {
   "cell_type": "markdown",
   "metadata": {
    "collapsed": false
   },
   "source": [
    "We see that having 4 half price truck gives us a cost of 101225\n",
    "Total Cost: 149224"
   ]
  },
  {
   "cell_type": "code",
   "execution_count": 40,
   "metadata": {
    "collapsed": false
   },
   "outputs": [
    {
     "data": {
      "text/plain": [
       "149224"
      ]
     },
     "execution_count": 40,
     "metadata": {
     },
     "output_type": "execute_result"
    }
   ],
   "source": [
    "101224 + (4)*12000"
   ]
  },
  {
   "cell_type": "code",
   "execution_count": 41,
   "metadata": {
    "collapsed": false
   },
   "outputs": [
    {
     "name": "stdout",
     "output_type": "stream",
     "text": [
      "GLPK 4.63 - SENSITIVITY ANALYSIS REPORT                                                                         Page   1\n",
      " \n",
      " Problem:    \n",
      " Objective:  99100 (MINimum)\n",
      " \n",
      "    No. Row name     St      Activity         Slack   Lower bound       Activity      Obj coef  Obj value at Limiting\n",
      "                                           Marginal   Upper bound          range         range   break point variable\n",
      " ------ ------------ -- ------------- ------------- -------------  ------------- ------------- ------------- ------------\n",
      "      1 Mill_1       NU     105.00000        .               -Inf      105.00000          -Inf   99100.00000 Mill_2\n",
      "                                         -550.00000     105.00000      105.00000     550.00000   99100.00000 x23\n",
      " \n",
      "      2 Mill_2       BS     160.00000        .               -Inf      170.00000     -82.50000   85900.00000 Mill_3\n",
      "                                             .          160.00000      160.00000          +Inf          +Inf\n",
      " \n",
      "      3 Mill_3       NU      85.00000        .               -Inf       85.00000          -Inf   99100.00000 Mill_2\n",
      "                                          -82.50000      85.00000      175.00000      82.50000   91675.00000 x22\n",
      " \n",
      "      4 MI           NL      70.00000        .           70.00000         .         -255.00000   81250.00000 x21\n",
      "                                          255.00000          +Inf       70.00000          +Inf   99100.00000 Mill_2\n",
      " \n",
      "      5 NY           NL     100.00000        .          100.00000       10.00000    -295.00000   72550.00000 x22\n",
      "                                          295.00000          +Inf      100.00000          +Inf   99100.00000 Mill_2\n",
      " \n",
      "      6 CA           NL     105.00000        .          105.00000      105.00000    -890.00000   99100.00000 x23\n",
      "                                          890.00000          +Inf      105.00000          +Inf   99100.00000 Mill_2\n",
      " \n",
      "      7 GA           NL      75.00000        .           75.00000         .         -307.50000   76037.50000 x34\n",
      "                                          307.50000          +Inf       75.00000          +Inf   99100.00000 Mill_2\n",
      " \n",
      " GLPK 4.63 - SENSITIVITY ANALYSIS REPORT                                                                         Page   2\n",
      " \n",
      " Problem:    \n",
      " Objective:  99100 (MINimum)\n",
      " \n",
      "    No. Column name  St      Activity      Obj coef   Lower bound       Activity      Obj coef  Obj value at Limiting\n",
      "                                           Marginal   Upper bound          range         range   break point variable\n",
      " ------ ------------ -- ------------- ------------- -------------  ------------- ------------- ------------- ------------\n",
      "      1 x11          NL        .          430.00000        .              .         -295.00000   99100.00000 x23\n",
      "                                          725.00000          +Inf       70.00000          +Inf  149850.00000 x21\n",
      " \n",
      "      2 x12          NL        .          550.00000        .              .         -255.00000   99100.00000 x23\n",
      "                                          805.00000          +Inf       90.00000          +Inf  171550.00000 x22\n",
      " \n",
      "      3 x13          BS     105.00000     340.00000        .           105.00000          -Inf          -Inf\n",
      "                                             .               +Inf      105.00000     890.00000  156850.00000 Mill_1\n",
      " \n",
      "      4 x14          NL        .          700.00000        .              .         -242.50000   99100.00000 x23\n",
      "                                          942.50000          +Inf       75.00000          +Inf  169787.50000 x34\n",
      " \n",
      "      5 x21          BS      70.00000     255.00000        .            70.00000        .        81250.00000 MI\n",
      "                                             .               +Inf       60.00000     477.50000  114675.00000 x31\n",
      " \n",
      "      6 x22          BS      90.00000     295.00000        .            90.00000     212.50000   91675.00000 Mill_3\n",
      "                                             .               +Inf       15.00000     672.50000  133075.00000 x24\n",
      " \n",
      "      7 x23          BS        .          890.00000        .              .          340.00000   99100.00000 Mill_1\n",
      "                                             .               +Inf      -10.00000     992.50000   99100.00000 x33\n",
      " \n",
      "      8 x24          NL        .          685.00000        .           -10.00000     307.50000   95325.00000 x32\n",
      "                                          377.50000          +Inf       75.00000          +Inf  127412.50000 x34\n",
      " \n",
      "      9 x31          NL        .          395.00000        .           -90.00000     172.50000   79075.00000 x22\n",
      "                                          222.50000          +Inf       10.00000          +Inf  101325.00000 x32\n",
      " \n",
      "     10 x32          BS      10.00000     212.50000        .            85.00000    -165.00000   95325.00000 x24\n",
      "                                             .               +Inf       10.00000     295.00000   99925.00000 Mill_3\n",
      " \n",
      " GLPK 4.63 - SENSITIVITY ANALYSIS REPORT                                                                         Page   3\n",
      " \n",
      " Problem:    \n",
      " Objective:  99100 (MINimum)\n",
      " \n",
      "    No. Column name  St      Activity      Obj coef   Lower bound       Activity      Obj coef  Obj value at Limiting\n",
      "                                           Marginal   Upper bound          range         range   break point variable\n",
      " ------ ------------ -- ------------- ------------- -------------  ------------- ------------- ------------- ------------\n",
      "     11 x33          NL        .          910.00000        .           -90.00000     807.50000   89875.00000 x22\n",
      "                                          102.50000          +Inf         .               +Inf   99100.00000 x23\n",
      " \n",
      "     12 x34          BS      75.00000     225.00000        .            75.00000     -82.50000   76037.50000 GA\n",
      "                                             .               +Inf      -15.00000     602.50000  127412.50000 x24\n",
      " \n",
      " End of report\n",
      " \n",
      "\n"
     ]
    }
   ],
   "source": [
    "v = ['x11','x12','x13','x14',\n",
    "    'x21','x22','x23','x24',#variables\n",
    "    'x31','x32','x33','x34']\n",
    "v2 = ['Mill_1', 'Mill_2','Mill_3',\n",
    "      'MI','NY','CA','GA']#constraits \n",
    "f = [430,550,680/2,700,\n",
    "     510/2,590/2,890,685,\n",
    "     395,425/2,910,450/2]\n",
    "c = [105,160,85,70,100,105,75]\n",
    "m = [1,1,1,-1,-1,-1,-1]\n",
    "M = [[1,1,1,1, 0,0,0,0, 0,0,0,0], #Mill_1\n",
    "     [0,0,0,0, 1,1,1,1, 0,0,0,0], #Mill_2\n",
    "     [0,0,0,0, 0,0,0,0, 1,1,1,1], #Mill_3\n",
    "     [1,0,0,0, 1,0,0,0, 1,0,0,0], #Michigan\n",
    "     [0,1,0,0, 0,1,0,0, 0,1,0,0], #New York\n",
    "     [0,0,1,0, 0,0,1,0, 0,0,1,0], #California\n",
    "     [0,0,0,1, 0,0,0,1, 0,0,0,1]] #Georgia\n",
    "lp(v, v2, f, M, m, c, mx=False)"
   ]
  },
  {
   "cell_type": "markdown",
   "metadata": {
    "collapsed": false
   },
   "source": [
    "We see that having 5 half price trucks gives us a cost of 99100<br/>\n",
    "New Cost: "
   ]
  },
  {
   "cell_type": "code",
   "execution_count": 43,
   "metadata": {
    "collapsed": false
   },
   "outputs": [
    {
     "data": {
      "text/plain": [
       "159100"
      ]
     },
     "execution_count": 43,
     "metadata": {
     },
     "output_type": "execute_result"
    }
   ],
   "source": [
    "99100 + (5)*12000"
   ]
  },
  {
   "cell_type": "code",
   "execution_count": 44,
   "metadata": {
    "collapsed": false
   },
   "outputs": [
    {
     "data": {
      "text/plain": [
       "9876"
      ]
     },
     "execution_count": 44,
     "metadata": {
     },
     "output_type": "execute_result"
    }
   ],
   "source": [
    "159100 - 149224"
   ]
  },
  {
   "cell_type": "markdown",
   "metadata": {
    "collapsed": false
   },
   "source": [
    "We could see that there is almost a 10,000 savings by having 4 trucks. Therefore 4 fuel efficient trucks is more cost effective"
   ]
  },
  {
   "cell_type": "markdown",
   "metadata": {
    "collapsed": false
   },
   "source": [
    "#### Part E"
   ]
  },
  {
   "cell_type": "code",
   "execution_count": 4,
   "metadata": {
    "collapsed": false
   },
   "outputs": [
    {
     "name": "stdout",
     "output_type": "stream",
     "text": [
      "GLPK 4.63 - SENSITIVITY ANALYSIS REPORT                                                                         Page   1\n",
      " \n",
      " Problem:    \n",
      " Objective:  162500 (MINimum)\n",
      " \n",
      "    No. Row name     St      Activity         Slack   Lower bound       Activity      Obj coef  Obj value at Limiting\n",
      "                                           Marginal   Upper bound          range         range   break point variable\n",
      " ------ ------------ -- ------------- ------------- -------------  ------------- ------------- ------------- ------------\n",
      "      1 Mill_1       NU     105.00000        .               -Inf      105.00000          -Inf  162500.00000 x11\n",
      "                                          -80.00000     105.00000      175.00000      80.00000  156900.00000 x21\n",
      " \n",
      "      2 Mill_2       BS     160.00000        .               -Inf      160.00000     -80.00000  149700.00000 Mill_1\n",
      "                                             .          160.00000      160.00000          +Inf          +Inf\n",
      " \n",
      "      3 Mill_3       NU      85.00000        .               -Inf       85.00000          -Inf  162500.00000 Mill_2\n",
      "                                         -165.00000      85.00000      175.00000     165.00000  147650.00000 x22\n",
      " \n",
      "      4 MI           NL      70.00000        .           70.00000         .         -510.00000  126800.00000 x21\n",
      "                                          510.00000          +Inf       70.00000          +Inf  162500.00000 Mill_2\n",
      " \n",
      "      5 NY           NL     100.00000        .          100.00000       10.00000    -590.00000  109400.00000 x22\n",
      "                                          590.00000          +Inf      100.00000          +Inf  162500.00000 Mill_2\n",
      " \n",
      "      6 CA           NL     105.00000        .          105.00000       35.00000    -420.00000  133100.00000 x21\n",
      "                                          420.00000          +Inf      105.00000          +Inf  162500.00000 x11\n",
      " \n",
      "      7 GA           NL      75.00000        .           75.00000         .         -615.00000  116375.00000 x34\n",
      "                                          615.00000          +Inf       75.00000          +Inf  162500.00000 Mill_2\n",
      " \n",
      " GLPK 4.63 - SENSITIVITY ANALYSIS REPORT                                                                         Page   2\n",
      " \n",
      " Problem:    \n",
      " Objective:  162500 (MINimum)\n",
      " \n",
      "    No. Column name  St      Activity      Obj coef   Lower bound       Activity      Obj coef  Obj value at Limiting\n",
      "                                           Marginal   Upper bound          range         range   break point variable\n",
      " ------ ------------ -- ------------- ------------- -------------  ------------- ------------- ------------- ------------\n",
      "      1 x11          BS        .          430.00000        .            70.00000     405.00000  162500.00000 x23\n",
      "                                             .               +Inf      -90.00000     470.00000  162500.00000 x12\n",
      " \n",
      "      2 x12          NL        .          550.00000        .           -70.00000     510.00000  159700.00000 x21\n",
      "                                           40.00000          +Inf         .               +Inf  162500.00000 x11\n",
      " \n",
      "      3 x13          BS     105.00000     340.00000        .           105.00000     -80.00000  118400.00000 CA\n",
      "                                             .               +Inf       35.00000     365.00000  165125.00000 x23\n",
      " \n",
      "      4 x14          NL        .          700.00000        .           -10.00000     535.00000  160850.00000 x32\n",
      "                                          165.00000          +Inf         .               +Inf  162500.00000 x11\n",
      " \n",
      "      5 x21          BS      70.00000     510.00000        .            70.00000     470.00000  159700.00000 x12\n",
      "                                             .               +Inf      -35.00000     535.00000  164250.00000 x23\n",
      " \n",
      "      6 x22          BS      90.00000     590.00000        .           100.00000     540.00000  158000.00000 x31\n",
      "                                             .               +Inf       90.00000     630.00000  166100.00000 x12\n",
      " \n",
      "      7 x23          NL        .          445.00000        .              .          420.00000  162500.00000 x11\n",
      "                                           25.00000          +Inf       70.00000          +Inf  164250.00000 x21\n",
      " \n",
      "      8 x24          NL        .          685.00000        .           -10.00000     615.00000  161800.00000 x32\n",
      "                                           70.00000          +Inf       75.00000          +Inf  167750.00000 x34\n",
      " \n",
      "      9 x31          NL        .          395.00000        .           -90.00000     345.00000  158000.00000 x22\n",
      "                                           50.00000          +Inf       10.00000          +Inf  163000.00000 x32\n",
      " \n",
      "     10 x32          BS      10.00000     425.00000        .            85.00000     355.00000  161800.00000 x24\n",
      "                                             .               +Inf      -60.00000     475.00000  163000.00000 x31\n",
      " \n",
      " GLPK 4.63 - SENSITIVITY ANALYSIS REPORT                                                                         Page   3\n",
      " \n",
      " Problem:    \n",
      " Objective:  162500 (MINimum)\n",
      " \n",
      "    No. Column name  St      Activity      Obj coef   Lower bound       Activity      Obj coef  Obj value at Limiting\n",
      "                                           Marginal   Upper bound          range         range   break point variable\n",
      " ------ ------------ -- ------------- ------------- -------------  ------------- ------------- ------------- ------------\n",
      "     11 x33          NL        .          455.00000        .              .          255.00000  162500.00000 x11\n",
      "                                          200.00000          +Inf       10.00000          +Inf  164500.00000 x32\n",
      " \n",
      "     12 x34          BS      75.00000     450.00000        .            75.00000    -165.00000  116375.00000 GA\n",
      "                                             .               +Inf      -15.00000     520.00000  167750.00000 x24\n",
      " \n",
      " End of report\n",
      " \n",
      "\n"
     ]
    }
   ],
   "source": [
    "v = ['x11','x12','x13','x14',\n",
    "    'x21','x22','x23','x24',#variables\n",
    "    'x31','x32','x33','x34']\n",
    "v2 = ['Mill_1', 'Mill_2','Mill_3',\n",
    "      'MI','NY','CA','GA']#constraits \n",
    "f = [430,550,680/2,700,\n",
    "     510,590,890/2,685,\n",
    "     395,425,910/2,450]\n",
    "c = [105,160,85,70,100,105,75]\n",
    "m = [1,1,1,-1,-1,-1,-1]\n",
    "M = [[1,1,1,1, 0,0,0,0, 0,0,0,0], #Mill_1\n",
    "     [0,0,0,0, 1,1,1,1, 0,0,0,0], #Mill_2\n",
    "     [0,0,0,0, 0,0,0,0, 1,1,1,1], #Mill_3\n",
    "     [1,0,0,0, 1,0,0,0, 1,0,0,0], #Michigan\n",
    "     [0,1,0,0, 0,1,0,0, 0,1,0,0], #New York\n",
    "     [0,0,1,0, 0,0,1,0, 0,0,1,0], #California\n",
    "     [0,0,0,1, 0,0,0,1, 0,0,0,1]] #Georgia\n",
    "lp(v, v2, f, M, m, c, mx=False)"
   ]
  },
  {
   "cell_type": "code",
   "execution_count": 5,
   "metadata": {
    "collapsed": false
   },
   "outputs": [
    {
     "data": {
      "text/plain": [
       "35700"
      ]
     },
     "execution_count": 5,
     "metadata": {
     },
     "output_type": "execute_result"
    }
   ],
   "source": [
    "198200 - 162500"
   ]
  },
  {
   "cell_type": "markdown",
   "metadata": {
    "collapsed": false
   },
   "source": [
    "If you must use energy efficient trucks on the California route, you could save $35700"
   ]
  },
  {
   "cell_type": "markdown",
   "metadata": {
    "collapsed": false
   },
   "source": [
    "### Problem 16"
   ]
  },
  {
   "cell_type": "markdown",
   "metadata": {
    "collapsed": false
   },
   "source": [
    "#### Part A"
   ]
  },
  {
   "cell_type": "code",
   "execution_count": 48,
   "metadata": {
    "collapsed": false
   },
   "outputs": [
    {
     "name": "stdout",
     "output_type": "stream",
     "text": [
      "GLPK 4.63 - SENSITIVITY ANALYSIS REPORT                                                                         Page   1\n",
      " \n",
      " Problem:    \n",
      " Objective:  8500000 (MAXimum)\n",
      " \n",
      "    No. Row name     St      Activity         Slack   Lower bound       Activity      Obj coef  Obj value at Limiting\n",
      "                                           Marginal   Upper bound          range         range   break point variable\n",
      " ------ ------------ -- ------------- ------------- -------------  ------------- ------------- ------------- ------------\n",
      "      1 Hours        BS   15625.00000    4375.00000          -Inf    13125.00000    -400.00000      2.25e+06 Total Monitors\n",
      "                                             .        20000.00000    16250.00000    1000.00000    2.4125e+07 Model B\n",
      " \n",
      "      2 Monitor A    BS    2500.00000    2500.00000          -Inf         .         -400.00000       7.5e+06 Total Monitors\n",
      "                                             .         5000.00000    10000.00000     600.00000         1e+07 Monitor B\n",
      " \n",
      "      3 Monitor B    NU    7500.00000        .               -Inf     5000.00000    -600.00000         7e+06 Monitor A\n",
      "                                          600.00000    7500.00000    10000.00000          +Inf         1e+07 Model A\n",
      " \n",
      "      4 Total Monitors\n",
      "                     NU   10000.00000        .               -Inf     7500.00000    -400.00000       7.5e+06 Model A\n",
      "                                          400.00000   10000.00000    12500.00000          +Inf       9.5e+06 Monitor A\n",
      " \n",
      " GLPK 4.63 - SENSITIVITY ANALYSIS REPORT                                                                         Page   2\n",
      " \n",
      " Problem:    \n",
      " Objective:  8500000 (MAXimum)\n",
      " \n",
      "    No. Column name  St      Activity      Obj coef   Lower bound       Activity      Obj coef  Obj value at Limiting\n",
      "                                           Marginal   Upper bound          range         range   break point variable\n",
      " ------ ------------ -- ------------- ------------- -------------  ------------- ------------- ------------- ------------\n",
      "      1 Model A      BS    2500.00000     400.00000        .        -15000.00000     150.00000     7.875e+06 Model B\n",
      "                                             .               +Inf     5000.00000    1000.00000         1e+07 Monitor B\n",
      " \n",
      "      2 Model B      NL        .          150.00000        .                -Inf          -Inf          +Inf\n",
      "                                         -250.00000          +Inf     2500.00000     400.00000     7.875e+06 Model A\n",
      " \n",
      "      3 Model C      BS    7500.00000    1000.00000        .          5000.00000     400.00000         4e+06 Monitor B\n",
      "                                             .               +Inf     7500.00000          +Inf          +Inf\n",
      " \n",
      " End of report\n",
      " \n",
      "\n"
     ]
    }
   ],
   "source": [
    "v = ['Model A', 'Model B', 'Model C']#Computer Models\n",
    "v2 = ['Hours', 'Monitor A', 'Monitor B', 'Total Monitors']\n",
    "f = [(1250 - 850),(1400-1250),(2500-1500)]#Sales Price and Cost of each model\n",
    "c = [20000,5000,7500,10000]#Contraints\n",
    "m = [1,1,1,1]\n",
    "M = [[1,1.25,1.75],#Hours\n",
    "    [1,1,0],       #Monitor A\n",
    "    [0,0,1],       #Monitor B\n",
    "    [1,1,1]]       #Total Monitors \n",
    "lp(v, v2, f, M, m, c, mx=True)#Max"
   ]
  },
  {
   "cell_type": "markdown",
   "metadata": {
    "collapsed": false
   },
   "source": [
    "From the report there are 2500 of Model A and 7500 of Model C"
   ]
  },
  {
   "cell_type": "markdown",
   "metadata": {
    "collapsed": false
   },
   "source": [
    "#### Part B"
   ]
  },
  {
   "cell_type": "code",
   "execution_count": 7,
   "metadata": {
    "collapsed": false
   },
   "outputs": [
    {
     "name": "stdout",
     "output_type": "stream",
     "text": [
      "GLPK 4.63 - SENSITIVITY ANALYSIS REPORT                                                                         Page   1\n",
      " \n",
      " Problem:    \n",
      " Objective:  8500000 (MAXimum)\n",
      " \n",
      "    No. Row name     St      Activity         Slack   Lower bound       Activity      Obj coef  Obj value at Limiting\n",
      "                                           Marginal   Upper bound          range         range   break point variable\n",
      " ------ ------------ -- ------------- ------------- -------------  ------------- ------------- ------------- ------------\n",
      "      1 Hours        BS   15625.00000    4376.00000          -Inf    13125.00000    -400.00000      2.25e+06 Total Monitors\n",
      "                                             .        20001.00000    16250.00000    1000.00000    2.4125e+07 Model B\n",
      " \n",
      "      2 Monitor A    BS    2500.00000    2500.00000          -Inf         .         -400.00000       7.5e+06 Total Monitors\n",
      "                                             .         5000.00000    10000.00000     600.00000         1e+07 Monitor B\n",
      " \n",
      "      3 Monitor B    NU    7500.00000        .               -Inf     5000.00000    -600.00000         7e+06 Monitor A\n",
      "                                          600.00000    7500.00000    10000.00000          +Inf         1e+07 Model A\n",
      " \n",
      "      4 Total Monitors\n",
      "                     NU   10000.00000        .               -Inf     7500.00000    -400.00000       7.5e+06 Model A\n",
      "                                          400.00000   10000.00000    12500.00000          +Inf       9.5e+06 Monitor A\n",
      " \n",
      " GLPK 4.63 - SENSITIVITY ANALYSIS REPORT                                                                         Page   2\n",
      " \n",
      " Problem:    \n",
      " Objective:  8500000 (MAXimum)\n",
      " \n",
      "    No. Column name  St      Activity      Obj coef   Lower bound       Activity      Obj coef  Obj value at Limiting\n",
      "                                           Marginal   Upper bound          range         range   break point variable\n",
      " ------ ------------ -- ------------- ------------- -------------  ------------- ------------- ------------- ------------\n",
      "      1 Model A      BS    2500.00000     400.00000        .        -15004.00000     150.00000     7.875e+06 Model B\n",
      "                                             .               +Inf     5000.00000    1000.00000         1e+07 Monitor B\n",
      " \n",
      "      2 Model B      NL        .          150.00000        .                -Inf          -Inf          +Inf\n",
      "                                         -250.00000          +Inf     2500.00000     400.00000     7.875e+06 Model A\n",
      " \n",
      "      3 Model C      BS    7500.00000    1000.00000        .          5000.00000     400.00000         4e+06 Monitor B\n",
      "                                             .               +Inf     7500.00000          +Inf          +Inf\n",
      " \n",
      " End of report\n",
      " \n",
      "\n"
     ]
    }
   ],
   "source": [
    "v = ['Model A', 'Model B', 'Model C']\n",
    "v2 = ['Hours', 'Monitor A', 'Monitor B', 'Total Monitors']\n",
    "f = [(1250 - 850),(1400-1250),(2500-1500)]\n",
    "c = [20001,5000,7500,10000]#increase hours by 1 for shadow price\n",
    "m = [1,1,1,1]\n",
    "M = [[1,1.25,1.75],#Hours\n",
    "    [1,1,0],       #Monitor A\n",
    "    [0,0,1],       #Monitor B\n",
    "    [1,1,1]]       #Total Monitors \n",
    "lp(v, v2, f, M, m, c, mx=True)"
   ]
  },
  {
   "cell_type": "markdown",
   "metadata": {
    "collapsed": false
   },
   "source": [
    "We see that the Hours constraint is non binding and has no effect on our profit"
   ]
  },
  {
   "cell_type": "code",
   "execution_count": 8,
   "metadata": {
    "collapsed": false
   },
   "outputs": [
    {
     "name": "stdout",
     "output_type": "stream",
     "text": [
      "GLPK 4.63 - SENSITIVITY ANALYSIS REPORT                                                                         Page   1\n",
      " \n",
      " Problem:    \n",
      " Objective:  8500000 (MAXimum)\n",
      " \n",
      "    No. Row name     St      Activity         Slack   Lower bound       Activity      Obj coef  Obj value at Limiting\n",
      "                                           Marginal   Upper bound          range         range   break point variable\n",
      " ------ ------------ -- ------------- ------------- -------------  ------------- ------------- ------------- ------------\n",
      "      1 Hours        BS   15625.00000    4375.00000          -Inf    13125.00000    -400.00000      2.25e+06 Total Monitors\n",
      "                                             .        20000.00000    16250.00000    1000.00000    2.4125e+07 Model B\n",
      " \n",
      "      2 Monitor A    BS    2500.00000    2501.00000          -Inf         .         -400.00000       7.5e+06 Total Monitors\n",
      "                                             .         5001.00000    10000.00000     600.00000         1e+07 Monitor B\n",
      " \n",
      "      3 Monitor B    NU    7500.00000        .               -Inf     4999.00000    -600.00000    6.9994e+06 Monitor A\n",
      "                                          600.00000    7500.00000    10000.00000          +Inf         1e+07 Model A\n",
      " \n",
      "      4 Total Monitors\n",
      "                     NU   10000.00000        .               -Inf     7500.00000    -400.00000       7.5e+06 Model A\n",
      "                                          400.00000   10000.00000    12501.00000          +Inf    9.5004e+06 Monitor A\n",
      " \n",
      " GLPK 4.63 - SENSITIVITY ANALYSIS REPORT                                                                         Page   2\n",
      " \n",
      " Problem:    \n",
      " Objective:  8500000 (MAXimum)\n",
      " \n",
      "    No. Column name  St      Activity      Obj coef   Lower bound       Activity      Obj coef  Obj value at Limiting\n",
      "                                           Marginal   Upper bound          range         range   break point variable\n",
      " ------ ------------ -- ------------- ------------- -------------  ------------- ------------- ------------- ------------\n",
      "      1 Model A      BS    2500.00000     400.00000        .        -15000.00000     150.00000     7.875e+06 Model B\n",
      "                                             .               +Inf     5001.00000    1000.00000         1e+07 Monitor B\n",
      " \n",
      "      2 Model B      NL        .          150.00000        .                -Inf          -Inf          +Inf\n",
      "                                         -250.00000          +Inf     2500.00000     400.00000     7.875e+06 Model A\n",
      " \n",
      "      3 Model C      BS    7500.00000    1000.00000        .          4999.00000     400.00000         4e+06 Monitor B\n",
      "                                             .               +Inf     7500.00000          +Inf          +Inf\n",
      " \n",
      " End of report\n",
      " \n",
      "\n"
     ]
    }
   ],
   "source": [
    "v = ['Model A', 'Model B', 'Model C']\n",
    "v2 = ['Hours', 'Monitor A', 'Monitor B', 'Total Monitors']\n",
    "f = [(1250 - 850),(1400-1250),(2500-1500)]\n",
    "c = [20000,5001,7500,10000]#increase Monitor A by 1 for shadow price\n",
    "m = [1,1,1,1]\n",
    "M = [[1,1.25,1.75],#Hours\n",
    "    [1,1,0],       #Monitor A\n",
    "    [0,0,1],       #Monitor B\n",
    "    [1,1,1]]       #Total Monitors \n",
    "lp(v, v2, f, M, m, c, mx=True)"
   ]
  },
  {
   "cell_type": "markdown",
   "metadata": {
    "collapsed": false
   },
   "source": [
    "We see that the Monitor A constraint is non binding and has no effect on our profit"
   ]
  },
  {
   "cell_type": "code",
   "execution_count": 9,
   "metadata": {
    "collapsed": false
   },
   "outputs": [
    {
     "name": "stdout",
     "output_type": "stream",
     "text": [
      "GLPK 4.63 - SENSITIVITY ANALYSIS REPORT                                                                         Page   1\n",
      " \n",
      " Problem:    \n",
      " Objective:  8500600 (MAXimum)\n",
      " \n",
      "    No. Row name     St      Activity         Slack   Lower bound       Activity      Obj coef  Obj value at Limiting\n",
      "                                           Marginal   Upper bound          range         range   break point variable\n",
      " ------ ------------ -- ------------- ------------- -------------  ------------- ------------- ------------- ------------\n",
      "      1 Hours        BS   15625.75000    4374.25000          -Inf    13126.75000    -400.00000    2.2503e+06 Total Monitors\n",
      "                                             .        20000.00000    16250.50000    1000.00000   2.41264e+07 Model B\n",
      " \n",
      "      2 Monitor A    BS    2499.00000    2501.00000          -Inf         .         -400.00000     7.501e+06 Total Monitors\n",
      "                                             .         5000.00000    10000.00000     600.00000         1e+07 Monitor B\n",
      " \n",
      "      3 Monitor B    NU    7501.00000        .               -Inf     5000.00000    -600.00000         7e+06 Monitor A\n",
      "                                          600.00000    7501.00000    10000.00000          +Inf         1e+07 Model A\n",
      " \n",
      "      4 Total Monitors\n",
      "                     NU   10000.00000        .               -Inf     7501.00000    -400.00000     7.501e+06 Model A\n",
      "                                          400.00000   10000.00000    12501.00000          +Inf     9.501e+06 Monitor A\n",
      " \n",
      " GLPK 4.63 - SENSITIVITY ANALYSIS REPORT                                                                         Page   2\n",
      " \n",
      " Problem:    \n",
      " Objective:  8500600 (MAXimum)\n",
      " \n",
      "    No. Column name  St      Activity      Obj coef   Lower bound       Activity      Obj coef  Obj value at Limiting\n",
      "                                           Marginal   Upper bound          range         range   break point variable\n",
      " ------ ------------ -- ------------- ------------- -------------  ------------- ------------- ------------- ------------\n",
      "      1 Model A      BS    2499.00000     400.00000        .        -14998.00000     150.00000   7.87585e+06 Model B\n",
      "                                             .               +Inf     5000.00000    1000.00000         1e+07 Monitor B\n",
      " \n",
      "      2 Model B      NL        .          150.00000        .                -Inf          -Inf          +Inf\n",
      "                                         -250.00000          +Inf     2499.00000     400.00000   7.87585e+06 Model A\n",
      " \n",
      "      3 Model C      BS    7501.00000    1000.00000        .          5000.00000     400.00000         4e+06 Monitor B\n",
      "                                             .               +Inf     7501.00000          +Inf          +Inf\n",
      " \n",
      " End of report\n",
      " \n",
      "\n"
     ]
    }
   ],
   "source": [
    "v = ['Model A', 'Model B', 'Model C']\n",
    "v2 = ['Hours', 'Monitor A', 'Monitor B', 'Total Monitors']\n",
    "f = [(1250 - 850),(1400-1250),(2500-1500)]\n",
    "c = [20000,5000,7501,10000]#increase Monitor B by 1 for shadow price\n",
    "m = [1,1,1,1]\n",
    "M = [[1,1.25,1.75],#Hours\n",
    "    [1,1,0],       #Monitor A\n",
    "    [0,0,1],       #Monitor B\n",
    "    [1,1,1]]       #Total Monitors \n",
    "lp(v, v2, f, M, m, c, mx=True)"
   ]
  },
  {
   "cell_type": "code",
   "execution_count": 10,
   "metadata": {
    "collapsed": false
   },
   "outputs": [
    {
     "data": {
      "text/plain": [
       "600"
      ]
     },
     "execution_count": 10,
     "metadata": {
     },
     "output_type": "execute_result"
    }
   ],
   "source": [
    "8500600 - 8500000"
   ]
  },
  {
   "cell_type": "markdown",
   "metadata": {
    "collapsed": false
   },
   "source": [
    "Our shadow price for the Monitor B constraint is $600"
   ]
  },
  {
   "cell_type": "code",
   "execution_count": 12,
   "metadata": {
    "collapsed": false
   },
   "outputs": [
    {
     "name": "stdout",
     "output_type": "stream",
     "text": [
      "GLPK 4.63 - SENSITIVITY ANALYSIS REPORT                                                                         Page   1\n",
      " \n",
      " Problem:    \n",
      " Objective:  8500400 (MAXimum)\n",
      " \n",
      "    No. Row name     St      Activity         Slack   Lower bound       Activity      Obj coef  Obj value at Limiting\n",
      "                                           Marginal   Upper bound          range         range   break point variable\n",
      " ------ ------------ -- ------------- ------------- -------------  ------------- ------------- ------------- ------------\n",
      "      1 Hours        BS   15626.00000    4374.00000          -Inf    13125.00000    -400.00000      2.25e+06 Total Monitors\n",
      "                                             .        20000.00000    16251.25000    1000.00000   2.41264e+07 Model B\n",
      " \n",
      "      2 Monitor A    BS    2501.00000    2499.00000          -Inf         .         -400.00000       7.5e+06 Total Monitors\n",
      "                                             .         5000.00000    10001.00000     600.00000    1.0001e+07 Monitor B\n",
      " \n",
      "      3 Monitor B    NU    7500.00000        .               -Inf     5001.00000    -600.00000     7.001e+06 Monitor A\n",
      "                                          600.00000    7500.00000    10001.00000          +Inf    1.0001e+07 Model A\n",
      " \n",
      "      4 Total Monitors\n",
      "                     NU   10001.00000        .               -Inf     7500.00000    -400.00000       7.5e+06 Model A\n",
      "                                          400.00000   10001.00000    12500.00000          +Inf       9.5e+06 Monitor A\n",
      " \n",
      " GLPK 4.63 - SENSITIVITY ANALYSIS REPORT                                                                         Page   2\n",
      " \n",
      " Problem:    \n",
      " Objective:  8500400 (MAXimum)\n",
      " \n",
      "    No. Column name  St      Activity      Obj coef   Lower bound       Activity      Obj coef  Obj value at Limiting\n",
      "                                           Marginal   Upper bound          range         range   break point variable\n",
      " ------ ------------ -- ------------- ------------- -------------  ------------- ------------- ------------- ------------\n",
      "      1 Model A      BS    2501.00000     400.00000        .        -14995.00000     150.00000   7.87515e+06 Model B\n",
      "                                             .               +Inf     5000.00000    1000.00000    1.0001e+07 Monitor B\n",
      " \n",
      "      2 Model B      NL        .          150.00000        .                -Inf          -Inf          +Inf\n",
      "                                         -250.00000          +Inf     2501.00000     400.00000   7.87515e+06 Model A\n",
      " \n",
      "      3 Model C      BS    7500.00000    1000.00000        .          5001.00000     400.00000    4.0004e+06 Monitor B\n",
      "                                             .               +Inf     7500.00000          +Inf          +Inf\n",
      " \n",
      " End of report\n",
      " \n",
      "\n"
     ]
    }
   ],
   "source": [
    "v = ['Model A', 'Model B', 'Model C']\n",
    "v2 = ['Hours', 'Monitor A', 'Monitor B', 'Total Monitors']\n",
    "f = [(1250 - 850),(1400-1250),(2500-1500)]\n",
    "c = [20000,5000,7500,10001]#increase Total Monitors by 1 for shadow price\n",
    "m = [1,1,1,1]\n",
    "M = [[1,1.25,1.75],#Hours\n",
    "    [1,1,0],       #Monitor A\n",
    "    [0,0,1],       #Monitor B\n",
    "    [1,1,1]]       #Total Monitors \n",
    "lp(v, v2, f, M, m, c, mx=True)"
   ]
  },
  {
   "cell_type": "code",
   "execution_count": 15,
   "metadata": {
    "collapsed": false
   },
   "outputs": [
    {
     "data": {
      "text/plain": [
       "400"
      ]
     },
     "execution_count": 15,
     "metadata": {
     },
     "output_type": "execute_result"
    }
   ],
   "source": [
    "8500400 - 8500000"
   ]
  },
  {
   "cell_type": "markdown",
   "metadata": {
    "collapsed": false
   },
   "source": [
    "Our shadow price for the Total Monitors constraint is $600"
   ]
  },
  {
   "cell_type": "markdown",
   "metadata": {
    "collapsed": false
   },
   "source": [
    "##### Part C"
   ]
  },
  {
   "cell_type": "markdown",
   "metadata": {
    "collapsed": false
   },
   "source": [
    "Change sales price of Model C from 2500 to 2199"
   ]
  },
  {
   "cell_type": "code",
   "execution_count": 18,
   "metadata": {
    "collapsed": false
   },
   "outputs": [
    {
     "name": "stdout",
     "output_type": "stream",
     "text": [
      "GLPK 4.63 - SENSITIVITY ANALYSIS REPORT                                                                         Page   1\n",
      " \n",
      " Problem:    \n",
      " Objective:  6242500 (MAXimum)\n",
      " \n",
      "    No. Row name     St      Activity         Slack   Lower bound       Activity      Obj coef  Obj value at Limiting\n",
      "                                           Marginal   Upper bound          range         range   break point variable\n",
      " ------ ------------ -- ------------- ------------- -------------  ------------- ------------- ------------- ------------\n",
      "      1 Hours        BS   15625.00000    4375.00000          -Inf    13750.00000    -398.66667   13333.33333 Monitor B\n",
      "                                             .        20000.00000    16250.00000    1000.00000   2.18675e+07 Model B\n",
      " \n",
      "      2 Monitor A    BS    2500.00000    2500.00000          -Inf         .         -400.00000    5.2425e+06 Total Monitors\n",
      "                                             .         5000.00000    10000.00000     299.00000      6.99e+06 Monitor B\n",
      " \n",
      "      3 Monitor B    NU    7500.00000        .               -Inf     5000.00000    -299.00000     5.495e+06 Monitor A\n",
      "                                          299.00000    7500.00000    10000.00000          +Inf      6.99e+06 Model A\n",
      " \n",
      "      4 Total Monitors\n",
      "                     NU   10000.00000        .               -Inf     7500.00000    -400.00000    5.2425e+06 Model A\n",
      "                                          400.00000   10000.00000    12500.00000          +Inf    7.2425e+06 Monitor A\n",
      " \n",
      " GLPK 4.63 - SENSITIVITY ANALYSIS REPORT                                                                         Page   2\n",
      " \n",
      " Problem:    \n",
      " Objective:  6242500 (MAXimum)\n",
      " \n",
      "    No. Column name  St      Activity      Obj coef   Lower bound       Activity      Obj coef  Obj value at Limiting\n",
      "                                           Marginal   Upper bound          range         range   break point variable\n",
      " ------ ------------ -- ------------- ------------- -------------  ------------- ------------- ------------- ------------\n",
      "      1 Model A      BS    2500.00000     400.00000        .        -15000.00000     150.00000    5.6175e+06 Model B\n",
      "                                             .               +Inf     5000.00000     699.00000      6.99e+06 Monitor B\n",
      " \n",
      "      2 Model B      NL        .          150.00000        .                -Inf          -Inf          +Inf\n",
      "                                         -250.00000          +Inf     2500.00000     400.00000    5.6175e+06 Model A\n",
      " \n",
      "      3 Model C      BS    7500.00000     699.00000        .          5000.00000     400.00000         4e+06 Monitor B\n",
      "                                             .               +Inf     7500.00000          +Inf          +Inf\n",
      " \n",
      " End of report\n",
      " \n",
      "\n"
     ]
    }
   ],
   "source": [
    "v = ['Model A', 'Model B', 'Model C']\n",
    "v2 = ['Hours', 'Monitor A', 'Monitor B', 'Total Monitors']\n",
    "f = [(1250 - 850),(1400-1250),(2199-1500)]#Change price of Model C from 2500 to 2199\n",
    "c = [20000,5000,7500,10000]#Constraints\n",
    "m = [1,1,1,1]\n",
    "M = [[1,1.25,1.75],#Hours\n",
    "    [1,1,0],       #Monitor A\n",
    "    [0,0,1],       #Monitor B\n",
    "    [1,1,1]]       #Total Monitors \n",
    "lp(v, v2, f, M, m, c, mx=True)"
   ]
  },
  {
   "cell_type": "code",
   "execution_count": 2,
   "metadata": {
    "collapsed": false
   },
   "outputs": [
    {
     "data": {
      "text/plain": [
       "2257500"
      ]
     },
     "execution_count": 2,
     "metadata": {
     },
     "output_type": "execute_result"
    }
   ],
   "source": [
    "8500000 - 6242500"
   ]
  },
  {
   "cell_type": "markdown",
   "metadata": {
    "collapsed": false
   },
   "source": [
    "Change in results from Part A:<br/>\n",
    "\n",
    "It does not change in the breakdown in what Model are sold, but our profit is down $2,257,500"
   ]
  },
  {
   "cell_type": "code",
   "execution_count": 19,
   "metadata": {
    "collapsed": false
   },
   "outputs": [
    {
     "name": "stdout",
     "output_type": "stream",
     "text": [
      "GLPK 4.63 - SENSITIVITY ANALYSIS REPORT                                                                         Page   1\n",
      " \n",
      " Problem:    \n",
      " Objective:  6242799 (MAXimum)\n",
      " \n",
      "    No. Row name     St      Activity         Slack   Lower bound       Activity      Obj coef  Obj value at Limiting\n",
      "                                           Marginal   Upper bound          range         range   break point variable\n",
      " ------ ------------ -- ------------- ------------- -------------  ------------- ------------- ------------- ------------\n",
      "      1 Hours        BS   15625.75000    4374.25000          -Inf    13750.00000    -398.66667   13333.33333 Monitor B\n",
      "                                             .        20000.00000    16250.50000    1000.00000   2.18685e+07 Model B\n",
      " \n",
      "      2 Monitor A    BS    2499.00000    2501.00000          -Inf         .         -400.00000    5.2432e+06 Total Monitors\n",
      "                                             .         5000.00000    10000.00000     299.00000      6.99e+06 Monitor B\n",
      " \n",
      "      3 Monitor B    NU    7501.00000        .               -Inf     5000.00000    -299.00000     5.495e+06 Monitor A\n",
      "                                          299.00000    7501.00000    10000.00000          +Inf      6.99e+06 Model A\n",
      " \n",
      "      4 Total Monitors\n",
      "                     NU   10000.00000        .               -Inf     7501.00000    -400.00000    5.2432e+06 Model A\n",
      "                                          400.00000   10000.00000    12501.00000          +Inf    7.2432e+06 Monitor A\n",
      " \n",
      " GLPK 4.63 - SENSITIVITY ANALYSIS REPORT                                                                         Page   2\n",
      " \n",
      " Problem:    \n",
      " Objective:  6242799 (MAXimum)\n",
      " \n",
      "    No. Column name  St      Activity      Obj coef   Lower bound       Activity      Obj coef  Obj value at Limiting\n",
      "                                           Marginal   Upper bound          range         range   break point variable\n",
      " ------ ------------ -- ------------- ------------- -------------  ------------- ------------- ------------- ------------\n",
      "      1 Model A      BS    2499.00000     400.00000        .        -14998.00000     150.00000   5.61805e+06 Model B\n",
      "                                             .               +Inf     5000.00000     699.00000      6.99e+06 Monitor B\n",
      " \n",
      "      2 Model B      NL        .          150.00000        .                -Inf          -Inf          +Inf\n",
      "                                         -250.00000          +Inf     2499.00000     400.00000   5.61805e+06 Model A\n",
      " \n",
      "      3 Model C      BS    7501.00000     699.00000        .          5000.00000     400.00000         4e+06 Monitor B\n",
      "                                             .               +Inf     7501.00000          +Inf          +Inf\n",
      " \n",
      " End of report\n",
      " \n",
      "\n"
     ]
    }
   ],
   "source": [
    "v = ['Model A', 'Model B', 'Model C']\n",
    "v2 = ['Hours', 'Monitor A', 'Monitor B', 'Total Monitors']\n",
    "f = [(1250 - 850),(1400-1250),(2199-1500)]\n",
    "c = [20000,5000,7501,10000]#Increase Monitor B by 1\n",
    "m = [1,1,1,1]\n",
    "M = [[1,1.25,1.75],#Hours\n",
    "    [1,1,0],       #Monitor A\n",
    "    [0,0,1],       #Monitor B\n",
    "    [1,1,1]]       #Total Monitors \n",
    "lp(v, v2, f, M, m, c, mx=True)"
   ]
  },
  {
   "cell_type": "code",
   "execution_count": 21,
   "metadata": {
    "collapsed": false
   },
   "outputs": [
    {
     "data": {
      "text/plain": [
       "299"
      ]
     },
     "execution_count": 21,
     "metadata": {
     },
     "output_type": "execute_result"
    }
   ],
   "source": [
    "6242799 - 6242500"
   ]
  },
  {
   "cell_type": "code",
   "execution_count": 22,
   "metadata": {
    "collapsed": false
   },
   "outputs": [
    {
     "name": "stdout",
     "output_type": "stream",
     "text": [
      "GLPK 4.63 - SENSITIVITY ANALYSIS REPORT                                                                         Page   1\n",
      " \n",
      " Problem:    \n",
      " Objective:  6242900 (MAXimum)\n",
      " \n",
      "    No. Row name     St      Activity         Slack   Lower bound       Activity      Obj coef  Obj value at Limiting\n",
      "                                           Marginal   Upper bound          range         range   break point variable\n",
      " ------ ------------ -- ------------- ------------- -------------  ------------- ------------- ------------- ------------\n",
      "      1 Hours        BS   15626.00000    4374.00000          -Inf    13751.75000    -398.66667   13334.66667 Monitor B\n",
      "                                             .        20000.00000    16251.25000    1000.00000   2.18689e+07 Model B\n",
      " \n",
      "      2 Monitor A    BS    2501.00000    2499.00000          -Inf         .         -400.00000    5.2425e+06 Total Monitors\n",
      "                                             .         5000.00000    10001.00000     299.00000    6.9907e+06 Monitor B\n",
      " \n",
      "      3 Monitor B    NU    7500.00000        .               -Inf     5001.00000    -299.00000    5.4957e+06 Monitor A\n",
      "                                          299.00000    7500.00000    10001.00000          +Inf    6.9907e+06 Model A\n",
      " \n",
      "      4 Total Monitors\n",
      "                     NU   10001.00000        .               -Inf     7500.00000    -400.00000    5.2425e+06 Model A\n",
      "                                          400.00000   10001.00000    12500.00000          +Inf    7.2425e+06 Monitor A\n",
      " \n",
      " GLPK 4.63 - SENSITIVITY ANALYSIS REPORT                                                                         Page   2\n",
      " \n",
      " Problem:    \n",
      " Objective:  6242900 (MAXimum)\n",
      " \n",
      "    No. Column name  St      Activity      Obj coef   Lower bound       Activity      Obj coef  Obj value at Limiting\n",
      "                                           Marginal   Upper bound          range         range   break point variable\n",
      " ------ ------------ -- ------------- ------------- -------------  ------------- ------------- ------------- ------------\n",
      "      1 Model A      BS    2501.00000     400.00000        .        -14995.00000     150.00000   5.61765e+06 Model B\n",
      "                                             .               +Inf     5000.00000     699.00000    6.9907e+06 Monitor B\n",
      " \n",
      "      2 Model B      NL        .          150.00000        .                -Inf          -Inf          +Inf\n",
      "                                         -250.00000          +Inf     2501.00000     400.00000   5.61765e+06 Model A\n",
      " \n",
      "      3 Model C      BS    7500.00000     699.00000        .          5001.00000     400.00000    4.0004e+06 Monitor B\n",
      "                                             .               +Inf     7500.00000          +Inf          +Inf\n",
      " \n",
      " End of report\n",
      " \n",
      "\n"
     ]
    }
   ],
   "source": [
    "v = ['Model A', 'Model B', 'Model C']\n",
    "v2 = ['Hours', 'Monitor A', 'Monitor B', 'Total Monitors']\n",
    "f = [(1250 - 850),(1400-1250),(2199-1500)]\n",
    "c = [20000,5000,7500,10001]#Increase Total Monitors by 1\n",
    "m = [1,1,1,1]\n",
    "M = [[1,1.25,1.75],#Hours\n",
    "    [1,1,0],       #Monitor A\n",
    "    [0,0,1],       #Monitor B\n",
    "    [1,1,1]]       #Total Monitors \n",
    "lp(v, v2, f, M, m, c, mx=True)"
   ]
  },
  {
   "cell_type": "code",
   "execution_count": 23,
   "metadata": {
    "collapsed": false
   },
   "outputs": [
    {
     "data": {
      "text/plain": [
       "400"
      ]
     },
     "execution_count": 23,
     "metadata": {
     },
     "output_type": "execute_result"
    }
   ],
   "source": [
    "6242900 - 6242500"
   ]
  },
  {
   "cell_type": "markdown",
   "metadata": {
    "collapsed": false
   },
   "source": [
    "Change in results from Part B:<br/>\n",
    "Shadow price for Monitor A goes from 600 to 299<br/>\n",
    "Shadow price for Total Monitors remains the same"
   ]
  },
  {
   "cell_type": "markdown",
   "metadata": {
    "collapsed": false
   },
   "source": [
    "#### Part D"
   ]
  },
  {
   "cell_type": "code",
   "execution_count": 25,
   "metadata": {
    "collapsed": false
   },
   "outputs": [
    {
     "name": "stdout",
     "output_type": "stream",
     "text": [
      "GLPK 4.63 - SENSITIVITY ANALYSIS REPORT                                                                         Page   1\n",
      " \n",
      " Problem:    \n",
      " Objective:  8500000 (MAXimum)\n",
      " \n",
      "    No. Row name     St      Activity         Slack   Lower bound       Activity      Obj coef  Obj value at Limiting\n",
      "                                           Marginal   Upper bound          range         range   break point variable\n",
      " ------ ------------ -- ------------- ------------- -------------  ------------- ------------- ------------- ------------\n",
      "      1 Hours        BS   15625.00000    4375.00000          -Inf    13125.00000    -400.00000      2.25e+06 Total Monitors\n",
      "                                             .        20000.00000    16250.00000    1000.00000    2.4125e+07 Model B\n",
      " \n",
      "      2 Monitor A    BS    2500.00000    2500.00000          -Inf         .         -400.00000       7.5e+06 Total Monitors\n",
      "                                             .         5000.00000    10000.00000     600.00000         1e+07 Monitor B\n",
      " \n",
      "      3 Monitor B    NU    7500.00000        .               -Inf     5000.00000    -600.00000         7e+06 Monitor A\n",
      "                                          600.00000    7500.00000    10000.00000          +Inf         1e+07 Model A\n",
      " \n",
      "      4 Total Monitors\n",
      "                     NU   10000.00000        .               -Inf     7500.00000    -400.00000       7.5e+06 Model A\n",
      "                                          400.00000   10000.00000    12500.00000          +Inf       9.5e+06 Monitor A\n",
      " \n",
      " GLPK 4.63 - SENSITIVITY ANALYSIS REPORT                                                                         Page   2\n",
      " \n",
      " Problem:    \n",
      " Objective:  8500000 (MAXimum)\n",
      " \n",
      "    No. Column name  St      Activity      Obj coef   Lower bound       Activity      Obj coef  Obj value at Limiting\n",
      "                                           Marginal   Upper bound          range         range   break point variable\n",
      " ------ ------------ -- ------------- ------------- -------------  ------------- ------------- ------------- ------------\n",
      "      1 Model A      BS    2500.00000     400.00000        .        -15000.00000     150.00000     7.875e+06 Model B\n",
      "                                             .               +Inf     5000.00000    1000.00000         1e+07 Monitor B\n",
      " \n",
      "      2 Model B      NL        .          150.00000        .                -Inf          -Inf          +Inf\n",
      "                                         -250.00000          +Inf     2500.00000     400.00000     7.875e+06 Model A\n",
      " \n",
      "      3 Model C      BS    7500.00000    1000.00000        .                -Inf     645.00000    5.8375e+06 Model D\n",
      "                                             .               +Inf     7500.00000          +Inf          +Inf\n",
      " \n",
      "      4 Model D      NL        .          645.00000        .        -17500.00000          -Inf   1.47125e+07 Hours\n",
      "                                         -355.00000          +Inf     7500.00000    1000.00000    5.8375e+06 Model C\n",
      " \n",
      " End of report\n",
      " \n",
      "\n"
     ]
    }
   ],
   "source": [
    "v = ['Model A', 'Model B', 'Model C','Model D']\n",
    "v2 = ['Hours', 'Monitor A', 'Monitor B', 'Total Monitors']\n",
    "f = [(1250 - 850),(1400-1250),(2500-1500),(1895 - 1250)]\n",
    "c = [20000,5000,7500,10000]#Increase Total Monitors by 1\n",
    "m = [1,1,1,1]\n",
    "M = [[1,1.25,1.75,1.5],#Hours\n",
    "    [1,1,0,0],       #Monitor A\n",
    "    [0,0,1,1],       #Monitor B\n",
    "    [1,1,1,1]]       #Total Monitors \n",
    "lp(v, v2, f, M, m, c, mx=True)"
   ]
  },
  {
   "cell_type": "markdown",
   "metadata": {
    "collapsed": false
   },
   "source": [
    "Adding Model D to our model changes nothing about our previous model."
   ]
  }
 ],
 "metadata": {
  "kernelspec": {
   "display_name": "SageMath (stable)",
   "language": "sagemath",
   "metadata": {
    "cocalc": {
     "description": "Open-source mathematical software system",
     "priority": 10,
     "url": "https://www.sagemath.org/"
    }
   },
   "name": "sagemath"
  },
  "language_info": {
   "codemirror_mode": {
    "name": "ipython",
    "version": 2
   },
   "file_extension": ".py",
   "mimetype": "text/x-python",
   "name": "python",
   "nbconvert_exporter": "python",
   "pygments_lexer": "ipython2",
   "version": "2.7.15"
  }
 },
 "nbformat": 4,
 "nbformat_minor": 0
}