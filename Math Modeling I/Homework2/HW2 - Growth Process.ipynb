{
 "cells": [
  {
   "cell_type": "markdown",
   "metadata": {
    "collapsed": false
   },
   "source": [
    "Brian Holliday<br/>\n",
    "Professor Masuda<br/>\n",
    "Mathematical Modeling<br/>\n",
    "21 October 2019<br/><br/><br/>\n",
    "\n",
    "Project #2\n",
    "\n",
    "Absract: \n",
    "\n",
    "For this problem we will be trying to find the optimal population for two species of whales. We will be trying to find the optimal population size that maximizes the population of each species while ensuring survival.<br/>\n",
    "\n",
    "We will be using the five step model and we will model this as a unconstrained optimization problem.<br/>\n",
    "\n",
    "After that we will be doing of sensitivity analysis of the rates to the growth rate. As well as a sensitivity analysis of the maximum sustainable populations to the growth rate"
   ]
  },
  {
   "cell_type": "markdown",
   "metadata": {
    "collapsed": false
   },
   "source": [
    "Ecologist use the following model to represent the growth process of two competing species, x and y:\n",
    "\n",
    "$$\\frac{dx}{dt} = (r1*x)*(1 - \\frac{x}{K1})-a1*(x*y)$$\n",
    "\n",
    "$$\\frac{dy}{dt} = (r2*x)*(1 - \\frac{y}{K2})-a2*(x*y)$$\n",
    "\n",
    "$$r1 = 0.05$$\n",
    "$$r2 = 0.08$$\n",
    "$$K1 = 150,00$$\n",
    "$$K2 = 400,00$$\n",
    "$$a1 = 10^-8$$\n",
    "$$a2 = 10^-8$$\n",
    "\n",
    "The variables x and y represent the number in each popualation; the parameters ri represent the intrinsic growth rates of each species; Ki represents the maximum sustainable population in the absence of competition; and ai represents the effects of competition. Studies of the blue whale and fin whale populations have determined the following parameter values (t in years):\n"
   ]
  },
  {
   "cell_type": "markdown",
   "metadata": {
    "collapsed": false
   },
   "source": [
    "We are going to model this problem with the 5 step approach treating it as a unconstrated optimization problem."
   ]
  },
  {
   "cell_type": "markdown",
   "metadata": {
    "collapsed": false
   },
   "source": [
    "Step 1: Identify the problem\n",
    "    \n",
    "   Determine the population levels x and y that maximize the number of new whales born year"
   ]
  },
  {
   "cell_type": "markdown",
   "metadata": {
    "collapsed": false
   },
   "source": [
    "Step 2: Make Assumptions <br/> <br/>\n",
    "    Variables: <br/> <br/>\n",
    "        x = population of blue whales <br/>\n",
    "        y = population of fin whales <br/>\n",
    "        r1 = growth rate of blue whales <br/>\n",
    "        r2 = growth rate of fin whales <br/>\n",
    "        K1 = highest possible population of blue whales <br/>\n",
    "        K2 = highest possible population of fin whales <br/>\n",
    "        a1 = Interaction coefficient of blue whales <br/>\n",
    "        a2 = Interaction coefficient of fin whales <br/>\n",
    "        T = Total popuation <br/> <br/>\n",
    "    Assumptions:\n",
    "        $$r1 = 0.05$$ <br/>\n",
    "        $$r2 = 0.08$$ <br/>\n",
    "        $$K1 = 150,000$$ <br/>\n",
    "        $$K2 = 400,000$$ <br/>\n",
    "        $$a1 = 10\\exp{-8}$$ <br/>\n",
    "        $$a2 = 10\\exp{-8}$$ <br/>\n",
    "        $$T = \\frac{dx}{dt} + \\frac{dy}{dt} $$ <br/>\n",
    "        $$x > 0$$ <br/>\n",
    "        $$y > 0$$"
   ]
  },
  {
   "cell_type": "markdown",
   "metadata": {
    "collapsed": false
   },
   "source": [
    "Step 3: Construct the model"
   ]
  },
  {
   "cell_type": "code",
   "execution_count": 1,
   "metadata": {
    "collapsed": false
   },
   "outputs": [
   ],
   "source": [
    "r1 = 0.05\n",
    "r2 = 0.08\n",
    "K1 = 150000\n",
    "K2 = 400000\n",
    "a1 = 10**-8\n",
    "a2 = a1\n",
    "B(x,y) = (r1*x)*(1 - (x/K1)) - a1*(x*y)\n",
    "F(x,y) = (r2*y)*(1 - (y/K2)) - a2*(x*y)\n",
    "T(x,y) = B(x,y) + F(x,y)\n",
    "#Lets solve the model"
   ]
  },
  {
   "cell_type": "code",
   "execution_count": 0,
   "metadata": {
    "collapsed": false
   },
   "outputs": [
   ],
   "source": [
   ]
  },
  {
   "cell_type": "markdown",
   "metadata": {
    "collapsed": false
   },
   "source": [
    "Step 4: Solve the Model"
   ]
  },
  {
   "cell_type": "code",
   "execution_count": 3,
   "metadata": {
    "collapsed": false
   },
   "outputs": [
    {
     "data": {
      "text/plain": [
       "[[x == (138000000/1997), y == (392500000/1997)]]"
      ]
     },
     "execution_count": 3,
     "metadata": {
     },
     "output_type": "execute_result"
    }
   ],
   "source": [
    "solve([diff(T(x,y),x)==0,diff(T(x,y),y)==0],x,y)\n",
    "#Critical Points"
   ]
  },
  {
   "cell_type": "code",
   "execution_count": 4,
   "metadata": {
    "collapsed": false
   },
   "outputs": [
    {
     "data": {
      "text/plain": [
       "69103.6554832248"
      ]
     },
     "execution_count": 4,
     "metadata": {
     },
     "output_type": "execute_result"
    }
   ],
   "source": [
    "n(138000000/1997)\n",
    "#Optimal Number of Blue Whales"
   ]
  },
  {
   "cell_type": "code",
   "execution_count": 5,
   "metadata": {
    "collapsed": false
   },
   "outputs": [
    {
     "data": {
      "text/plain": [
       "196544.817225839"
      ]
     },
     "execution_count": 5,
     "metadata": {
     },
     "output_type": "execute_result"
    }
   ],
   "source": [
    "n(392500000/1997)\n",
    "#Optimal Number of Fin Whales"
   ]
  },
  {
   "cell_type": "code",
   "execution_count": 6,
   "metadata": {
    "collapsed": false
   },
   "outputs": [
    {
     "data": {
      "text/plain": [
       "9589.38407606667"
      ]
     },
     "execution_count": 6,
     "metadata": {
     },
     "output_type": "execute_result"
    }
   ],
   "source": [
    "T(69104, 196545)"
   ]
  },
  {
   "cell_type": "markdown",
   "metadata": {
    "collapsed": false
   },
   "source": [
    "We see for our model: <br/>\n",
    "\n",
    "$$x = blue whales = 69104$$\n",
    "$$y = fin whales = 196545$$\n",
    "$$T(x,y) = 9589.38$$"
   ]
  },
  {
   "cell_type": "markdown",
   "metadata": {
    "collapsed": false
   },
   "source": [
    "The optimal population of blue whales is 69,104, while the optimal population of fin whales is 196,545. The optimal growth rate for the whales per year is 9589."
   ]
  },
  {
   "cell_type": "markdown",
   "metadata": {
    "collapsed": false
   },
   "source": [
    "Step 5: Confirm the model <br/> <br/>\n",
    "1) Sensitivity of growth rates to optimal population <br/>\n",
    "2) Sensitivity of environmental carrying rates to optimal population <br/>\n",
    "\n"
   ]
  },
  {
   "cell_type": "code",
   "execution_count": 7,
   "metadata": {
    "collapsed": false
   },
   "outputs": [
   ],
   "source": [
    "r1 = var('r1')\n",
    "r2 = 0.08\n",
    "K1 = 150000\n",
    "K2 = 400000\n",
    "a1 = 10**-8\n",
    "a2 = a1\n",
    "B(x,y,r1) = (r1*x)*(1 - (x/K1)) - a1*(x*y)\n",
    "F(x,y) = (r2*y)*(1 - (y/K2)) - a2*(x*y)\n",
    "T(x,y,r1) = B(x,y) + F(x,y)"
   ]
  },
  {
   "cell_type": "code",
   "execution_count": 8,
   "metadata": {
    "collapsed": false
   },
   "outputs": [
    {
     "data": {
      "text/plain": [
       "[[x == 12000000*(250*r1 - 1)/(40000*r1 - 3), y == 7850000000*r1/(40000*r1 - 3)]]"
      ]
     },
     "execution_count": 8,
     "metadata": {
     },
     "output_type": "execute_result"
    }
   ],
   "source": [
    "solve([diff(T(x,y,r1),x)==0,diff(T(x,y,r1),y)==0],x,y)"
   ]
  },
  {
   "cell_type": "code",
   "execution_count": 9,
   "metadata": {
    "collapsed": false
   },
   "outputs": [
   ],
   "source": [
    "dxdr1(x,r1) = diff((12000000*(250*r1 - 1)/(40000*r1 - 3)),r1)"
   ]
  },
  {
   "cell_type": "code",
   "execution_count": 51,
   "metadata": {
    "collapsed": false
   },
   "outputs": [
    {
     "data": {
      "text/plain": [
       "0.0854538423283101"
      ]
     },
     "execution_count": 51,
     "metadata": {
     },
     "output_type": "execute_result"
    }
   ],
   "source": [
    "dxdr1(x,r1) = diff((12000000*(250*r1 - 1)/(40000*r1 - 3)),r1)\n",
    "Sx(x,r1) = dxdr1(x,r1) * (r1/x)\n",
    "Sx(69104, .05)"
   ]
  },
  {
   "cell_type": "markdown",
   "metadata": {
    "collapsed": false
   },
   "source": [
    "We get that the sensitivity of r1 to the blue whale popuation is 0.085<br/>\n",
    "$$Sx(x,r1) = \\frac{dy}{dr1}(r1) * \\frac{r1}{x} = 0.085$$"
   ]
  },
  {
   "cell_type": "code",
   "execution_count": 14,
   "metadata": {
    "collapsed": false
   },
   "outputs": [
   ],
   "source": [
    "dydr1(y,r1) = diff((7850000000*r1/(40000*r1 - 3)),r1)"
   ]
  },
  {
   "cell_type": "code",
   "execution_count": 15,
   "metadata": {
    "collapsed": false
   },
   "outputs": [
   ],
   "source": [
    "Sy(y,r1) = dydr1(y,r1) * (r1/y)"
   ]
  },
  {
   "cell_type": "code",
   "execution_count": 16,
   "metadata": {
    "collapsed": false
   },
   "outputs": [
    {
     "data": {
      "text/plain": [
       "-0.00150225198307145"
      ]
     },
     "execution_count": 16,
     "metadata": {
     },
     "output_type": "execute_result"
    }
   ],
   "source": [
    "Sy(196545,0.05)"
   ]
  },
  {
   "cell_type": "markdown",
   "metadata": {
    "collapsed": false
   },
   "source": [
    "We get that the sensitivity of r1 to the fin whale popuation is -0.0015<br/>\n",
    "$$Sy(y,r1) = \\frac{dy}{dr1}(r1) * \\frac{r1}{y} = -0.0015$$"
   ]
  },
  {
   "cell_type": "markdown",
   "metadata": {
    "collapsed": false
   },
   "source": [
    "We will now compute the sensitivity of r2 to the growth rate"
   ]
  },
  {
   "cell_type": "code",
   "execution_count": 17,
   "metadata": {
    "collapsed": false
   },
   "outputs": [
   ],
   "source": [
    "r1 = 0.05\n",
    "r2 = var('r2')\n",
    "K1 = 150000\n",
    "K2 = 400000\n",
    "a1 = 10**-8\n",
    "a2 = a1\n",
    "B(x,y) = (r1*x)*(1 - (x/K1)) - a1*(x*y)\n",
    "F(x,y,r2) = (r2*y)*(1 - (y/K2)) - a2*(x*y)\n",
    "T(x,y,r2) = B(x,y) + F(x,y,r2)"
   ]
  },
  {
   "cell_type": "code",
   "execution_count": 18,
   "metadata": {
    "collapsed": false
   },
   "outputs": [
    {
     "data": {
      "text/plain": [
       "[[x == 1725000000*r2/(25000*r2 - 3), y == 2500000*(2000*r2 - 3)/(25000*r2 - 3)]]"
      ]
     },
     "execution_count": 18,
     "metadata": {
     },
     "output_type": "execute_result"
    }
   ],
   "source": [
    "solve([diff(T(x,y,r2),x)==0,diff(T(x,y,r2),y)==0],x,y)"
   ]
  },
  {
   "cell_type": "code",
   "execution_count": 19,
   "metadata": {
    "collapsed": false
   },
   "outputs": [
    {
     "data": {
      "text/plain": [
       "-0.00150224589061233"
      ]
     },
     "execution_count": 19,
     "metadata": {
     },
     "output_type": "execute_result"
    }
   ],
   "source": [
    "dxdr2(x,r2) = diff((1725000000*r2/(25000*r2 - 3)),r2)\n",
    "Sx(x,r2) = dxdr2(x,r2) * (r2/x)\n",
    "Sx(69104, .08)"
   ]
  },
  {
   "cell_type": "markdown",
   "metadata": {
    "collapsed": false
   },
   "source": [
    "We get that the sensitivity of r2 to the blue whale popuation is -0.0015<br/>\n",
    "$$Sy(x,r2) = \\frac{dx}{dr2}(r2) * \\frac{r2}{x} = -0.0015$$"
   ]
  },
  {
   "cell_type": "code",
   "execution_count": 20,
   "metadata": {
    "collapsed": false
   },
   "outputs": [
    {
     "data": {
      "text/plain": [
       "0.0176060105022385"
      ]
     },
     "execution_count": 20,
     "metadata": {
     },
     "output_type": "execute_result"
    }
   ],
   "source": [
    "dydr2(y,r2) = diff((2500000*(2000*r2 - 3)/(25000*r2 - 3)),r2)\n",
    "Sy(y,r2) = dydr2(y,r2) * (r2/y)\n",
    "Sy(196545,0.08)"
   ]
  },
  {
   "cell_type": "markdown",
   "metadata": {
    "collapsed": false
   },
   "source": [
    "We get that the sensitivity of r2 to the fin whale popuation is 0.0176<br/>\n",
    "$$Sy(y,r2) = \\frac{dy}{dr2}(r2) * \\frac{r2}{y} = 0.0176$$"
   ]
  },
  {
   "cell_type": "code",
   "execution_count": 21,
   "metadata": {
    "collapsed": false
   },
   "outputs": [
   ],
   "source": [
    "r1 = 0.05\n",
    "r2 = 0.08\n",
    "K1 = var('K1')\n",
    "K2 = 400000\n",
    "a1 = 10**-8\n",
    "a2 = a1\n",
    "B(x,y,K1) = (r1*x)*(1 - (x/K1)) - a1*(x*y)\n",
    "F(x,y) = (r2*y)*(1 - (y/K2)) - a2*(x*y)\n",
    "T(x,y,K1) = B(x,y,K1) + F(x,y)"
   ]
  },
  {
   "cell_type": "code",
   "execution_count": 22,
   "metadata": {
    "collapsed": false
   },
   "outputs": [
    {
     "data": {
      "text/plain": [
       "[[x == -46000000*K1/(K1 - 100000000), y == 2500000*(K1 - 8000000)/(K1 - 100000000)]]"
      ]
     },
     "execution_count": 22,
     "metadata": {
     },
     "output_type": "execute_result"
    }
   ],
   "source": [
    "solve([diff(T(x,y,K1),x)==0,diff(T(x,y,K1),y)==0],x,y)"
   ]
  },
  {
   "cell_type": "code",
   "execution_count": 23,
   "metadata": {
    "collapsed": false
   },
   "outputs": [
    {
     "data": {
      "text/plain": [
       "1.00149726040822"
      ]
     },
     "execution_count": 23,
     "metadata": {
     },
     "output_type": "execute_result"
    }
   ],
   "source": [
    "dxdK1(K1) = diff((-46000000*K1/(K1 - 100000000)),K1)\n",
    "Sx(x,K1) = dxdK1(K1) * (K1/x)\n",
    "n(Sx(69104,150000))"
   ]
  },
  {
   "cell_type": "markdown",
   "metadata": {
    "collapsed": false
   },
   "source": [
    "We get that the sensitivity of K1 to the blue whale population is 1.0015<br/>\n",
    "$$Sx(x,K2) = \\frac{dx}{dK1}(K2) * \\frac{K1}{x} = 1.0015$$"
   ]
  },
  {
   "cell_type": "code",
   "execution_count": 24,
   "metadata": {
    "collapsed": false
   },
   "outputs": [
    {
     "data": {
      "text/plain": [
       "-0.0176060105022386"
      ]
     },
     "execution_count": 24,
     "metadata": {
     },
     "output_type": "execute_result"
    }
   ],
   "source": [
    "dydK1(K1) = diff((2500000*(K1 - 8000000)/(K1 - 100000000)),K1)\n",
    "Sy(y,K1) = dydK1(K1) * (K1/y)\n",
    "n(Sy(196545,150000))"
   ]
  },
  {
   "cell_type": "markdown",
   "metadata": {
    "collapsed": false
   },
   "source": [
    "We get that the sensitivity of K1 to the fin whale population is -0.0176<br/>\n",
    "$$Sy(y,K1) = \\frac{dx}{dK1}(K1) * \\frac{K1}{x} = -0.0176$$"
   ]
  },
  {
   "cell_type": "code",
   "execution_count": 25,
   "metadata": {
    "collapsed": false
   },
   "outputs": [
   ],
   "source": [
    "r1 = 0.05\n",
    "r2 = 0.08\n",
    "K1 = 150000\n",
    "K2 = var('K2')\n",
    "a1 = 10**-8\n",
    "a2 = a1\n",
    "B(x,y) = (r1*x)*(1 - (x/K1)) - a1*(x*y)\n",
    "F(x,y,K2) = (r2*y)*(1 - (y/K2)) - a2*(x*y)\n",
    "T(x,y,K2) = B(x,y) + F(x,y,K2)"
   ]
  },
  {
   "cell_type": "code",
   "execution_count": 26,
   "metadata": {
    "collapsed": false
   },
   "outputs": [
    {
     "data": {
      "text/plain": [
       "[[x == 12000000*(K2 - 5000000)/(3*K2 - 800000000), y == -392500000*K2/(3*K2 - 800000000)]]"
      ]
     },
     "execution_count": 26,
     "metadata": {
     },
     "output_type": "execute_result"
    }
   ],
   "source": [
    "solve([diff(T(x,y,K2),x)==0,diff(T(x,y,K2),y)==0],x,y)"
   ]
  },
  {
   "cell_type": "code",
   "execution_count": 49,
   "metadata": {
    "collapsed": false
   },
   "outputs": [
    {
     "data": {
      "text/plain": [
       "-0.0854538423283102"
      ]
     },
     "execution_count": 49,
     "metadata": {
     },
     "output_type": "execute_result"
    }
   ],
   "source": [
    "dxdK2(K2) = diff((12000000*(K2 - 5000000)/(3*K2 - 800000000)), K2)\n",
    "Sx(x,K2) = dxdK2(K2) * (K2/x)\n",
    "n(Sx(69104,400000))"
   ]
  },
  {
   "cell_type": "markdown",
   "metadata": {
    "collapsed": false
   },
   "source": [
    "We get that the sensitivity of K2 to the blue whale population is -0.085<br/>\n",
    "$$Sx(x,K2) = \\frac{dx}{dK2}(K2) * \\frac{K2}{x} = -0.085$$"
   ]
  },
  {
   "cell_type": "code",
   "execution_count": 28,
   "metadata": {
    "collapsed": false
   },
   "outputs": [
    {
     "data": {
      "text/plain": [
       "1.00150132204763"
      ]
     },
     "execution_count": 28,
     "metadata": {
     },
     "output_type": "execute_result"
    }
   ],
   "source": [
    "dydK2(K2) = diff((-392500000*K2/(3*K2 - 800000000)),K2)\n",
    "Sy(y,K2) = dydK2(K2) * (K2/y)\n",
    "n(Sy(196545,400000))"
   ]
  },
  {
   "cell_type": "markdown",
   "metadata": {
    "collapsed": false
   },
   "source": [
    "We get that the sensitivity of K2 to the fin whale population is 1.0015<br/>\n",
    "$$Sy(y,K2) = \\frac{dy}{dK2}(K2) * \\frac{K2}{y} = 1.0015$$"
   ]
  },
  {
   "cell_type": "markdown",
   "metadata": {
    "collapsed": false
   },
   "source": [
    "Part D\n",
    "\n",
    "Assuming that a1 = a2 = a, is it ever optimal for one species to become extinct?\n",
    "\n",
    "Lets find the sensitivity of a to growth rate"
   ]
  },
  {
   "cell_type": "code",
   "execution_count": 29,
   "metadata": {
    "collapsed": false
   },
   "outputs": [
   ],
   "source": [
    "r1 = 0.05\n",
    "r2 = 0.08\n",
    "K1 = 150000\n",
    "K2 = 400000\n",
    "a = var('a')\n",
    "B(x,y,a) = (r1*x)*(1 - (x/K1)) - a*(x*y)\n",
    "F(x,y,a) = (r2*y)*(1 - (y/K2)) - a*(x*y)\n",
    "T(x,y,a) = B(x,y,a) + F(x,y,a)"
   ]
  },
  {
   "cell_type": "code",
   "execution_count": 30,
   "metadata": {
    "collapsed": false
   },
   "outputs": [
    {
     "data": {
      "text/plain": [
       "[[x == 75000*(8000000*a - 1)/(15000000000000*a^2 - 1), y == 200000*(1875000*a - 1)/(15000000000000*a^2 - 1)]]"
      ]
     },
     "execution_count": 30,
     "metadata": {
     },
     "output_type": "execute_result"
    }
   ],
   "source": [
    "solve([diff(T(x,y,a),x)==0,diff(T(x,y,a),y)==0],x,y)"
   ]
  },
  {
   "cell_type": "code",
   "execution_count": 46,
   "metadata": {
    "collapsed": false
   },
   "outputs": [
    {
     "data": {
      "text/plain": [
       "[a == (1/8000000)]"
      ]
     },
     "execution_count": 46,
     "metadata": {
     },
     "output_type": "execute_result"
    }
   ],
   "source": [
    "dxda(a) = (75000*(8000000*a - 1)/(15000000000000*a^2 - 1))\n",
    "solve(dxda(a)==0,a)"
   ]
  },
  {
   "cell_type": "code",
   "execution_count": 42,
   "metadata": {
    "collapsed": false
   },
   "outputs": [
    {
     "data": {
      "text/plain": [
       "1.25000000000000e-7"
      ]
     },
     "execution_count": 42,
     "metadata": {
     },
     "output_type": "execute_result"
    }
   ],
   "source": [
    "n(1/8000000)"
   ]
  },
  {
   "cell_type": "markdown",
   "metadata": {
    "collapsed": false
   },
   "source": [
    "We get that a has to be at least 1.25*10^-7 for the blue whale population to not be extinct\n",
    "\n",
    "Let find a for y"
   ]
  },
  {
   "cell_type": "code",
   "execution_count": 44,
   "metadata": {
    "collapsed": false
   },
   "outputs": [
    {
     "data": {
      "text/plain": [
       "[a == (1/1875000)]"
      ]
     },
     "execution_count": 44,
     "metadata": {
     },
     "output_type": "execute_result"
    }
   ],
   "source": [
    "dyda(a) = 200000*(1875000*a - 1)/(15000000000000*a^2 - 1)\n",
    "solve(dyda(a)==0,a)"
   ]
  },
  {
   "cell_type": "code",
   "execution_count": 47,
   "metadata": {
    "collapsed": false
   },
   "outputs": [
    {
     "data": {
      "text/plain": [
       "5.33333333333333e-7"
      ]
     },
     "execution_count": 47,
     "metadata": {
     },
     "output_type": "execute_result"
    }
   ],
   "source": [
    "n(1/1875000)"
   ]
  },
  {
   "cell_type": "markdown",
   "metadata": {
    "collapsed": false
   },
   "source": [
    "We get that a has to be at least 5.33*10^-7 for the fin whale population to not be extinct\n",
    "\n",
    "Life is sustainable for both populations at $$a = 1.25e-7$$\n",
    "\n",
    "Blue Whales become extinct at: $$a = 1.25e-7$$\n",
    "\n",
    "Fin Whales become extinct at; $$a = 5.33e-7$$\n",
    "\n",
    "Therefore in terms of a it is not optimal for one species to be extinct because the absolute value of the fin whales is more than blue whales"
   ]
  },
  {
   "cell_type": "code",
   "execution_count": 0,
   "metadata": {
    "collapsed": false
   },
   "outputs": [
   ],
   "source": [
   ]
  }
 ],
 "metadata": {
  "kernelspec": {
   "display_name": "SageMath (stable)",
   "language": "sagemath",
   "metadata": {
    "cocalc": {
     "description": "Open-source mathematical software system",
     "priority": 10,
     "url": "https://www.sagemath.org/"
    }
   },
   "name": "sagemath"
  },
  "language_info": {
   "codemirror_mode": {
    "name": "ipython",
    "version": 2
   },
   "file_extension": ".py",
   "mimetype": "text/x-python",
   "name": "python",
   "nbconvert_exporter": "python",
   "pygments_lexer": "ipython2",
   "version": "2.7.15"
  }
 },
 "nbformat": 4,
 "nbformat_minor": 0
}